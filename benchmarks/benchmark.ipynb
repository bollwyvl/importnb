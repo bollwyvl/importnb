{
 "cells": [
  {
   "cell_type": "markdown",
   "metadata": {},
   "source": [
    "# Loading the [Python Data Science Handbook]() as modules with `importnb` "
   ]
  },
  {
   "cell_type": "code",
   "execution_count": 1,
   "metadata": {},
   "outputs": [],
   "source": [
    "from importnb import Partial, Notebook\n",
    "from pathlib import Path\n",
    "from warnings import warn"
   ]
  },
  {
   "cell_type": "markdown",
   "metadata": {},
   "source": [
    "# Clone the [Python Data Science from Github](https://github.com/jakevdp/PythonDataScienceHandbook)\n",
    "\n",
    "1. Glob over all the notebooks.\n",
    "2. Use the Partial loader - permit broken notebooks to load, but stop there - to import the notebooks from the book as Python modules.\n",
    "    \n",
    "    Display the error or warning during each load.\n",
    "    \n",
    "3. Exceptions and output are on the `__exception__` and `__output__` attributes, respectively."
   ]
  },
  {
   "cell_type": "code",
   "execution_count": 2,
   "metadata": {},
   "outputs": [],
   "source": [
    "repo = None\n",
    "notebooks = ''\n",
    "display=True\n",
    "timeout=2\n",
    "\n",
    "__doc__ = (__doc__ or \"\") + \"\"\"\n",
    "Benchmark the importability of Github projects with notebooks in them.\n",
    "\n",
    "---\n",
    "    \n",
    "- repo: \"https://www.github.com/jakevdp/PythonDataScienceHandbook\"\n",
    "  notebooks: \"PythonDataScienceHandbook/notebooks/\"\n",
    "\n",
    "- repo: \"https://github.com/AllenDowney/ThinkDSP\"\n",
    "  notebooks: \"ThinkDSP/code\"\n",
    "\"\"\"\n",
    "\n",
    "notebooks = Path(notebooks)"
   ]
  },
  {
   "cell_type": "code",
   "execution_count": 3,
   "metadata": {},
   "outputs": [],
   "source": [
    "    def unlink():\n",
    "        if 'ThinkDSP' in str(notebooks):\n",
    "            for link in Path().glob('*'):\n",
    "                if link.suffix != '.ipynb': \n",
    "                    if link.is_symlink(): Path(link.name).unlink()"
   ]
  },
  {
   "cell_type": "code",
   "execution_count": 4,
   "metadata": {},
   "outputs": [],
   "source": [
    "class Timed(Partial):\n",
    "    def exec_module(self, module):\n",
    "        try:\n",
    "            __import__('timeout_decorator').timeout(timeout)(super().exec_module)(module)\n",
    "        except BaseException as e: \n",
    "            module.__exception__ = e\n",
    "        return module\n",
    "        "
   ]
  },
  {
   "cell_type": "code",
   "execution_count": 5,
   "metadata": {},
   "outputs": [],
   "source": [
    "if repo:\n",
    "    if not notebooks.exists():\n",
    "        from IPython import get_ipython\n",
    "        !git clone $repo --depth 1\n",
    "        \n",
    "    unlink()\n",
    "    if 'ThinkDSP' in str(notebooks):\n",
    "        for link in list(notebooks.glob('*')):\n",
    "            if link.suffix != '.ipynb':\n",
    "                if link.is_file(): Path(link.name).symlink_to(link)"
   ]
  },
  {
   "cell_type": "code",
   "execution_count": 6,
   "metadata": {},
   "outputs": [],
   "source": [
    "if repo and __name__ != '__main__':\n",
    "    modules = {}\n",
    "    for path in notebooks.glob('*.ipynb'):\n",
    "        modules[path] = module = Timed.from_filename(path, stdout=True, stderr=True, display=display)\n",
    "        print(f\"{'🏆😩'[bool(module.__exception__)]} {path}\")\n",
    "        "
   ]
  },
  {
   "cell_type": "code",
   "execution_count": 7,
   "metadata": {},
   "outputs": [],
   "source": [
    "if repo and __name__ != '__main__':\n",
    "    from pandas import DataFrame, set_option, concat\n",
    "    set_option('precision', 1)\n",
    "\n",
    "    df = DataFrame({\n",
    "        path: {\n",
    "            k: getattr(module, k) for k in dir(module)\n",
    "        } for path, module in modules.items()\n",
    "    }).T\n",
    "    concat({'Module Attributes': df}, axis=1).sample(2)"
   ]
  },
  {
   "cell_type": "code",
   "execution_count": 8,
   "metadata": {},
   "outputs": [],
   "source": [
    "if repo and __name__ != '__main__':\n",
    "    print((\n",
    "        \"%2.1f{} of the %s notebooks loaded with a import threshold of %f seconds\"\n",
    "        % (df['__exception__'].isnull().mean().__mul__(100), notebooks.parts[0], timeout)\n",
    "    ).format('%'))"
   ]
  },
  {
   "cell_type": "code",
   "execution_count": 9,
   "metadata": {},
   "outputs": [],
   "source": [
    "unlink()"
   ]
  },
  {
   "cell_type": "code",
   "execution_count": null,
   "metadata": {},
   "outputs": [],
   "source": []
  }
 ],
 "metadata": {
  "kernelspec": {
   "display_name": "p6",
   "language": "python",
   "name": "other-env"
  },
  "language_info": {
   "codemirror_mode": {
    "name": "ipython",
    "version": 3
   },
   "file_extension": ".py",
   "mimetype": "text/x-python",
   "name": "python",
   "nbconvert_exporter": "python",
   "pygments_lexer": "ipython3",
   "version": "3.6.3"
  }
 },
 "nbformat": 4,
 "nbformat_minor": 2
}
