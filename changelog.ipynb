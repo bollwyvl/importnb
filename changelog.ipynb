{
 "cells": [
  {
   "cell_type": "markdown",
   "metadata": {},
   "source": [
    "## CHANGELOG"
   ]
  },
  {
   "cell_type": "markdown",
   "metadata": {},
   "source": [
    "# 0.2.1\n",
    "\n",
    "* `importnb` supports notebook inputs from pure python environments.  Two compatible compiler were created from IPython and Python\n",
    "* `importnb.Partial` works appropriately by improving exceptions.\n",
    "* All of the IPython magic syntaxes were removed to support Pure Python.\n",
    "* The generated Python files are formatted with black.\n",
    "* Tests were added to:\n",
    "\n",
    "    * Validate the line number in tracebacks\n",
    "    * Test someone elses notebooks"
   ]
  },
  {
   "cell_type": "markdown",
   "metadata": {},
   "source": [
    "### 0.1.4\n",
    "- Pypi supports markdown long_description with the proper mimetype in long_description_content_type."
   ]
  },
  {
   "cell_type": "markdown",
   "metadata": {},
   "source": [
    "### 0.1.3\n",
    "- Include the RST files in the `MANIFEST.in`."
   ]
  },
  {
   "cell_type": "markdown",
   "metadata": {},
   "source": [
    "### 0.1.2 (Unreleased)\n",
    "- Use RST files to improve the literacy of the pypi description."
   ]
  },
  {
   "cell_type": "markdown",
   "metadata": {},
   "source": [
    "### 0.1.1\n",
    "- Released on PyPi "
   ]
  },
  {
   "cell_type": "markdown",
   "metadata": {},
   "source": [
    "### 0.0.2\n",
    "- Initial Testing Release"
   ]
  }
 ],
 "metadata": {
  "kernelspec": {
   "display_name": "p6",
   "language": "python",
   "name": "other-env"
  },
  "language_info": {
   "codemirror_mode": {
    "name": "ipython",
    "version": 3
   },
   "file_extension": ".py",
   "mimetype": "text/x-python",
   "name": "python",
   "nbconvert_exporter": "python",
   "pygments_lexer": "ipython3",
   "version": "3.6.3"
  }
 },
 "nbformat": 4,
 "nbformat_minor": 2
}
