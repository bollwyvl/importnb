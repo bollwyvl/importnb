{
  "cells": [
    {
      "source": [
        "This is the docstring.\n",
        "                \n",
        "                >>> assert True\n",
        "            \n"
      ],
      "cell_type": "markdown",
      "metadata": {}
    },
    {
      "source": [
        "foo = 42\n",
        "assert foo\n",
        "bar= 100\n"
      ],
      "cell_type": "code",
      "metadata": {},
      "outputs": []
    },
    {
      "source": [
        "print(foo)\n"
      ],
      "cell_type": "code",
      "metadata": {},
      "outputs": []
    },
    {
      "source": [
        "Markdown paragraph\n"
      ],
      "cell_type": "markdown",
      "metadata": {}
    },
    {
      "source": [
        "_repr_markdown_ = lambda: 'a custom repr {foo}'.format(foo=foo)\n"
      ],
      "cell_type": "code",
      "metadata": {},
      "outputs": []
    }
  ]
}