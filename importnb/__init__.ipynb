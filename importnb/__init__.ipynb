{
 "cells": [
  {
   "cell_type": "markdown",
   "metadata": {},
   "source": [
    "# The [Import Loader](https://docs.python.org/3/reference/import.html#loaders)\n",
    "\n",
    "`rites` uses as much of the Python import system as it can."
   ]
  },
  {
   "cell_type": "code",
   "execution_count": 1,
   "metadata": {},
   "outputs": [],
   "source": [
    "    try:\n",
    "        from .compiler import Compile, AST\n",
    "    except:\n",
    "        from compiler import Compile, AST\n",
    "    import inspect, sys, warnings\n",
    "    from importlib.machinery import SourceFileLoader\n",
    "    from importlib._bootstrap_external import FileFinder\n",
    "    from traceback import print_exc\n",
    "    from importlib import reload"
   ]
  },
  {
   "cell_type": "code",
   "execution_count": 2,
   "metadata": {},
   "outputs": [],
   "source": [
    "    def update_path_hooks(id, *loaders):\n",
    "        sys.path_hooks.pop(id)\n",
    "        sys.path_hooks.insert(id, (FileFinder.path_hook(*tuple(loaders))))"
   ]
  },
  {
   "cell_type": "code",
   "execution_count": 3,
   "metadata": {},
   "outputs": [],
   "source": [
    "    from importlib.util import LazyLoader"
   ]
  },
  {
   "cell_type": "code",
   "execution_count": 4,
   "metadata": {},
   "outputs": [],
   "source": [
    "    class ImportContext:\n",
    "        def __enter__(self):\n",
    "            for i, hook in enumerate(sys.path_hooks):\n",
    "                cls = type(self)\n",
    "                try:\n",
    "                    closure = inspect.getclosurevars(hook).nonlocals\n",
    "                    if issubclass(closure['cls'], FileFinder):\n",
    "                        update_path_hooks(i, (cls, (list(self.EXTENSION_SUFFIXES))), *(\n",
    "                            (cls, ext) for cls, ext in closure['loader_details'] if not issubclass(cls, Notebook)))\n",
    "                except TypeError: ...\n",
    "            sys.path_importer_cache.clear()\n",
    "                    \n",
    "                    \n",
    "        def __exit__(self, exception_type=None, exception_value=None, traceback=None):\n",
    "            for i, hook in enumerate(sys.path_hooks):\n",
    "                try:\n",
    "                    closure = inspect.getclosurevars(hook).nonlocals\n",
    "                    if issubclass(closure['cls'], FileFinder):\n",
    "                        update_path_hooks(i, *(\n",
    "                            (cls, ext) for cls, ext in closure['loader_details'] if not issubclass(cls, type(self))\n",
    "                        ))\n",
    "                except TypeError: ...\n",
    "            sys.path_importer_cache.clear()\n",
    "            "
   ]
  },
  {
   "cell_type": "code",
   "execution_count": 5,
   "metadata": {},
   "outputs": [],
   "source": [
    "    class Notebook(SourceFileLoader, ImportContext):\n",
    "        \"\"\"A SourceFileLoader for notebooks that provides line number debugginer in the JSON source.\"\"\"\n",
    "        EXTENSION_SUFFIXES = '.ipynb',\n",
    "        def __init__(self, fullname=None, path=None, lazy=False):\n",
    "            super().__init__(fullname, path)\n",
    "        def exec_module(Loader, module):\n",
    "            from IPython.utils.capture import capture_output    \n",
    "            with capture_output(stdout=False, stderr=False) as output: \n",
    "                try: super().exec_module(module)\n",
    "                except type('pass', (BaseException,), {}): ...\n",
    "                finally: module.__output__ = output\n",
    "            return module\n",
    "\n",
    "        def source_to_code(Notebook, data, path):\n",
    "            with __import__('io').BytesIO(data) as stream:\n",
    "                return Compile().from_file(stream, filename=Notebook.path, name=Notebook.name)"
   ]
  },
  {
   "cell_type": "code",
   "execution_count": 6,
   "metadata": {},
   "outputs": [],
   "source": [
    "    class Partial(Notebook):\n",
    "        def exec_module(loader, module):\n",
    "            try: super().exec_module(module)\n",
    "            except BaseException as exception:\n",
    "                try: raise ImportWarning(f\"\"\"{module.__name__} from {module.__file__} failed to load completely.\"\"\")\n",
    "                except ImportWarning as error:\n",
    "                    print_exc()\n",
    "                    module.__exception__ = exception\n",
    "            return module"
   ]
  },
  {
   "cell_type": "markdown",
   "metadata": {},
   "source": [
    "# IPython Extensions"
   ]
  },
  {
   "cell_type": "code",
   "execution_count": 7,
   "metadata": {},
   "outputs": [],
   "source": [
    "    def load_ipython_extension(ip=None): Notebook().__enter__()\n",
    "    def unload_ipython_extension(ip=None): Notebook().__exit__()"
   ]
  },
  {
   "cell_type": "markdown",
   "metadata": {},
   "source": [
    "### Force the docstring for rites itself."
   ]
  },
  {
   "cell_type": "code",
   "execution_count": 8,
   "metadata": {},
   "outputs": [],
   "source": [
    "    class Test(__import__('unittest').TestCase): \n",
    "        def setUp(Test):\n",
    "            from nbformat import write, v4\n",
    "            load_ipython_extension()\n",
    "            with open('test_loader.ipynb', 'w') as file:\n",
    "                write(v4.new_notebook(cells=[\n",
    "                    v4.new_code_cell(\"\"\"__import__(\"time\").sleep(1);test = 42\"\"\")\n",
    "                ]), file)\n",
    "                \n",
    "        def runTest(Test):\n",
    "            import test_loader\n",
    "            assert test_loader.__file__.endswith('.ipynb')\n",
    "            assert test_loader.test is 42\n",
    "            assert isinstance(test_loader, __import__('types').ModuleType)\n",
    "            \n",
    "        def tearDown(Test):\n",
    "#             %rm test_loader.ipynb\n",
    "            unload_ipython_extension()"
   ]
  },
  {
   "cell_type": "markdown",
   "metadata": {},
   "source": [
    "# Developer"
   ]
  },
  {
   "cell_type": "code",
   "execution_count": 9,
   "metadata": {
    "scrolled": false
   },
   "outputs": [
    {
     "name": "stderr",
     "output_type": "stream",
     "text": [
      ".\n",
      "----------------------------------------------------------------------\n",
      "Ran 1 test in 1.019s\n",
      "\n",
      "OK\n"
     ]
    },
    {
     "name": "stdout",
     "output_type": "stream",
     "text": [
      "[NbConvertApp] Converting notebook __init__.ipynb to script\n",
      "[NbConvertApp] Writing 4142 bytes to __init__.py\n"
     ]
    }
   ],
   "source": [
    "    if __name__ ==  '__main__':\n",
    "#         __import__('doctest').testmod(verbose=2)\n",
    "        __import__('unittest').TextTestRunner().run(Test())\n",
    "        !jupyter nbconvert --to script __init__.ipynb"
   ]
  }
 ],
 "metadata": {
  "kernelspec": {
   "display_name": "p6",
   "language": "python",
   "name": "other-env"
  },
  "language_info": {
   "codemirror_mode": {
    "name": "ipython",
    "version": 3
   },
   "file_extension": ".py",
   "mimetype": "text/x-python",
   "name": "python",
   "nbconvert_exporter": "python",
   "pygments_lexer": "ipython3",
   "version": "3.6.3"
  },
  "toc": {
   "colors": {
    "hover_highlight": "#DAA520",
    "running_highlight": "#FF0000",
    "selected_highlight": "#FFD700"
   },
   "moveMenuLeft": true,
   "nav_menu": {
    "height": "29px",
    "width": "252px"
   },
   "navigate_menu": true,
   "number_sections": true,
   "sideBar": true,
   "threshold": 4,
   "toc_cell": false,
   "toc_section_display": "block",
   "toc_window_display": false,
   "widenNotebook": false
  },
  "varInspector": {
   "cols": {
    "lenName": 16,
    "lenType": 16,
    "lenVar": 40
   },
   "kernels_config": {
    "python": {
     "delete_cmd_postfix": "",
     "delete_cmd_prefix": "del ",
     "library": "var_list.py",
     "varRefreshCmd": "print(var_dic_list())"
    },
    "r": {
     "delete_cmd_postfix": ") ",
     "delete_cmd_prefix": "rm(",
     "library": "var_list.r",
     "varRefreshCmd": "cat(var_dic_list()) "
    }
   },
   "types_to_exclude": [
    "module",
    "function",
    "builtin_function_or_method",
    "instance",
    "_Feature"
   ],
   "window_display": false
  }
 },
 "nbformat": 4,
 "nbformat_minor": 2
}
