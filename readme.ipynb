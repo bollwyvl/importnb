{
 "cells": [
  {
   "cell_type": "markdown",
   "metadata": {},
   "source": [
    "__importnb__ imports notebooks as modules & packages.\n",
    "\n",
    "[![Binder](https://mybinder.org/badge.svg)](https://mybinder.org/v2/gh/deathbeds/importnb/master?urlpath=lab/tree/readme.ipynb)[![Build Status](https://travis-ci.org/deathbeds/importnb.svg?branch=master)](https://travis-ci.org/deathbeds/importnb)[![PyPI version](https://badge.fury.io/py/importnb.svg)](https://badge.fury.io/py/importnb)![PyPI - Python Version](https://img.shields.io/pypi/pyversions/importnb.svg)![PyPI - Format](https://img.shields.io/pypi/format/importnb.svg)![PyPI - Format](https://img.shields.io/pypi/l/importnb.svg)[\n",
    "![Conda](https://img.shields.io/conda/pn/conda-forge/importnb.svg)](https://anaconda.org/conda-forge/importnb)[\n",
    "![GitHub tag](https://img.shields.io/github/tag/deathbeds/importnb.svg)](https://github.com/deathbeds/importnb/tree/master/src/importnb)\n",
    "\n",
    "    pip install importnb\n",
    "    \n",
    "---\n",
    "\n",
    "    conda install -c conda-forge importnb\n",
    "\n",
    "# `importnb` works in Python and IPython\n",
    "\n",
    "Use the `Notebook` context manager.\n",
    "\n",
    "    >>> from importnb import Notebook"
   ]
  },
  {
   "cell_type": "markdown",
   "metadata": {},
   "source": [
    "### For brevity\n",
    "\n",
    "[`importnb.loader`](src/notebooks/loader.ipynb) will find notebooks available anywhere along the [`sys.path`](https://docs.python.org/2/library/sys.html#sys.path)."
   ]
  },
  {
   "cell_type": "code",
   "execution_count": 18,
   "metadata": {},
   "outputs": [],
   "source": [
    "    from importnb.usage import notebook"
   ]
  },
  {
   "cell_type": "code",
   "execution_count": 19,
   "metadata": {},
   "outputs": [],
   "source": [
    "    with __import__('importnb').Notebook(): \n",
    "        import readme"
   ]
  },
  {
   "cell_type": "markdown",
   "metadata": {},
   "source": [
    "#### or explicity "
   ]
  },
  {
   "cell_type": "code",
   "execution_count": 20,
   "metadata": {},
   "outputs": [],
   "source": [
    "    from importnb import Notebook\n",
    "    with Notebook(): \n",
    "        import readme"
   ]
  },
  {
   "cell_type": "code",
   "execution_count": 21,
   "metadata": {},
   "outputs": [],
   "source": [
    "    foo = 42\n",
    "    import readme\n",
    "    assert readme.foo is 42\n",
    "    assert readme.__file__.endswith('.ipynb')"
   ]
  },
  {
   "cell_type": "markdown",
   "metadata": {},
   "source": [
    "### Modules may be reloaded \n",
    "\n",
    "The context manager is required to `reload` a module."
   ]
  },
  {
   "cell_type": "code",
   "execution_count": 22,
   "metadata": {},
   "outputs": [],
   "source": [
    "    from importlib import reload\n",
    "    with Notebook():\n",
    "        reload(readme)"
   ]
  },
  {
   "cell_type": "markdown",
   "metadata": {},
   "source": [
    "### Partial loading\n",
    "\n",
    "The [`importnb.loader.Notebook`](src/notebooks/loader.ipynb#Partial-Loader) will __import__ a notebook even if there is an exception by supplying the `exceptions` option.  The __exception__ is found on `module._exception`."
   ]
  },
  {
   "cell_type": "code",
   "execution_count": 23,
   "metadata": {},
   "outputs": [],
   "source": [
    "    with Notebook(exceptions=BaseException):\n",
    "        try: from . import readme\n",
    "        except: import readme"
   ]
  },
  {
   "cell_type": "markdown",
   "metadata": {},
   "source": [
    "### Lazy imports\n",
    "\n",
    "The `lazy` option will delay the evaluation of a module until one of its attributes are accessed the first time."
   ]
  },
  {
   "cell_type": "code",
   "execution_count": 24,
   "metadata": {},
   "outputs": [],
   "source": [
    "    with Notebook(lazy=True):\n",
    "        import readme"
   ]
  },
  {
   "cell_type": "markdown",
   "metadata": {},
   "source": [
    "## Capture Outputs\n",
    "\n",
    "`importnb` can capture the `stdout`, `stderr`, and `display` in the context manager.  The arguments are similar to `IPython.util.capture.capture_output`."
   ]
  },
  {
   "cell_type": "code",
   "execution_count": 25,
   "metadata": {},
   "outputs": [],
   "source": [
    "    with Notebook(stdout=True, stderr=True, display=True) as output:\n",
    "        import readme"
   ]
  },
  {
   "cell_type": "markdown",
   "metadata": {},
   "source": [
    "### Docstring\n",
    "\n",
    "The first markdown cell will become the module docstring."
   ]
  },
  {
   "cell_type": "code",
   "execution_count": 26,
   "metadata": {},
   "outputs": [
    {
     "name": "stdout",
     "output_type": "stream",
     "text": [
      "__importnb__ imports notebooks as modules & packages.\n"
     ]
    }
   ],
   "source": [
    "    if __name__ == '__main__':\n",
    "        print(readme.__doc__.splitlines()[0])"
   ]
  },
  {
   "cell_type": "markdown",
   "metadata": {},
   "source": [
    "Meaning non-code blocks can be executeb by [doctest]()."
   ]
  },
  {
   "cell_type": "code",
   "execution_count": 29,
   "metadata": {},
   "outputs": [],
   "source": [
    "    if __name__ == '__main__':\n",
    "        __import__('doctest').testmod(readme)"
   ]
  },
  {
   "cell_type": "markdown",
   "metadata": {},
   "source": [
    "# Import notebooks from files\n",
    "\n",
    "Notebook names may not be valid Python paths.  In this case, use `Notebook.from_filename`.\n",
    "\n",
    "       Notebook.from_filename('readme.ipynb')\n",
    "       \n",
    "Import under the `__main__` context.\n",
    "       \n",
    "       Notebook.from_filename('readme.ipynb', main=True)"
   ]
  },
  {
   "cell_type": "markdown",
   "metadata": {},
   "source": [
    "# Parameterize Notebooks\n",
    "\n",
    "Literal ast statements are converted to notebooks parameters.\n",
    "\n",
    "In `readme`, `foo` is a parameter because it may be evaluated with ast.literal_val"
   ]
  },
  {
   "cell_type": "code",
   "execution_count": 30,
   "metadata": {},
   "outputs": [],
   "source": [
    "    from importnb import Parameterize\n",
    "    f = Parameterize().from_filename(readme.__file__)\n",
    "    "
   ]
  },
  {
   "cell_type": "markdown",
   "metadata": {},
   "source": [
    "The parameterized module is a callable that evaluates with different literal statements."
   ]
  },
  {
   "cell_type": "code",
   "execution_count": 31,
   "metadata": {},
   "outputs": [
    {
     "data": {
      "text/plain": [
       "<Signature (*, foo=42)>"
      ]
     },
     "execution_count": 31,
     "metadata": {},
     "output_type": "execute_result"
    }
   ],
   "source": [
    "    assert callable(f)\n",
    "    f.__signature__"
   ]
  },
  {
   "cell_type": "markdown",
   "metadata": {},
   "source": [
    "    assert f().foo == 42\n",
    "    assert f(foo='importnb').foo == 'importnb'"
   ]
  },
  {
   "cell_type": "markdown",
   "metadata": {},
   "source": [
    "## Integrations\n"
   ]
  },
  {
   "cell_type": "markdown",
   "metadata": {},
   "source": [
    "### IPython\n",
    "\n",
    "#### [IPython Extension](src/notebooks/loader.ipynb#IPython-Extensions)\n",
    "\n",
    "Avoid the use of the context manager using loading importnb as IPython extension.\n",
    "\n",
    "    %load_ext importnb\n",
    "    \n",
    "`%unload_ext importnb` will unload the extension.\n",
    "\n",
    "#### Default Extension\n",
    "\n",
    "`importnb` may allow notebooks to import by default with \n",
    "\n",
    "    importnb-install\n",
    "    \n",
    "This extension will install a script into the default IPython profile startup that is called each time an IPython session is created.  \n",
    "\n",
    "Uninstall the extension with `importnb-install`.\n",
    "\n",
    "##### Run a notebook as a module\n",
    "\n",
    "When the default extension is loaded any notebook can be run from the command line. After the `importnb` extension is created notebooks can be execute from the command line.\n",
    "\n",
    "    ipython -m readme\n",
    "    \n",
    "> See the [deploy step in the travis build](https://github.com/deathbeds/importnb/blob/docs/.travis.yml#L19)."
   ]
  },
  {
   "cell_type": "markdown",
   "metadata": {},
   "source": [
    "### py.test\n",
    "\n",
    "`importnb` installs a pytest plugin when it is setup.  Any notebook obeying the py.test discovery conventions can be used in to pytest.  _This is great because notebooks are generally your first test._"
   ]
  },
  {
   "cell_type": "markdown",
   "metadata": {},
   "source": [
    "### Setup\n",
    "\n",
    "To package notebooks add `recursive-include package_name *.ipynb`"
   ]
  },
  {
   "cell_type": "markdown",
   "metadata": {},
   "source": [
    "### [Watchdog](https://github.com/gorakhargosh/watchdog/tree/master/src/watchdog/tricks)\n",
    "\n",
    "    pip install importnb[watch]\n",
    "\n",
    "`importnb` exports a watchdog trick to watch files and apply command like operations on their module path.\n",
    "\n",
    "#### Tricks File\n",
    "\n",
    "For example, create a file called `tricks.yaml` containing\n",
    "\n",
    "    tricks:\n",
    "    - importnb.utils.watch.ModuleTrick:\n",
    "          patterns: ['*.ipynb']\n",
    "          shell_command: ipython -m ${watch_dest_path}\n",
    "      \n",
    "#### Run the watcher in a terminal\n",
    "\n",
    "    watchmedo tricks tricks.yaml\n",
    "      \n",
    "> [`tricks.yaml`](tricks.yaml) is a concrete implementation of `tricks.yaml`"
   ]
  },
  {
   "cell_type": "markdown",
   "metadata": {},
   "source": [
    "## Developer"
   ]
  },
  {
   "cell_type": "markdown",
   "metadata": {},
   "source": [
    "* [Source Notebooks](src/notebooks/)\n",
    "* [Transpiled Python Source](src/importnb/)\n",
    "* [Tests](src/importnb/tests)"
   ]
  },
  {
   "cell_type": "markdown",
   "metadata": {},
   "source": [
    "### Format and test the Source Code"
   ]
  },
  {
   "cell_type": "code",
   "execution_count": 32,
   "metadata": {},
   "outputs": [],
   "source": [
    "    from IPython import get_ipython"
   ]
  },
  {
   "cell_type": "code",
   "execution_count": 33,
   "metadata": {},
   "outputs": [
    {
     "name": "stdout",
     "output_type": "stream",
     "text": [
      "plugins: ignore-flaky-0.1.1, forked-0.2, cov-2.5.1, benchmark-3.1.1, importnb-0.3.0\n",
      "collected 24 items                                                             \u001b[0m\n",
      "\n",
      "src/importnb/tests/test_importnb.ipynb::test_single_file_with_context \u001b[32mPASSED\u001b[0m\u001b[36m [  4%]\u001b[0m\n",
      "src/importnb/tests/test_importnb.ipynb::test_from_filename \u001b[32mPASSED\u001b[0m\u001b[36m        [  8%]\u001b[0m\n",
      "src/importnb/tests/test_importnb.ipynb::test_from_execute \u001b[32mPASSED\u001b[0m\u001b[36m         [ 12%]\u001b[0m\n",
      "src/importnb/tests/test_importnb.ipynb::test_with_doctest \u001b[32mPASSED\u001b[0m\u001b[36m         [ 16%]\u001b[0m\n",
      "src/importnb/tests/test_importnb.ipynb::test_from_filename_main \u001b[32mPASSED\u001b[0m\u001b[36m   [ 20%]\u001b[0m\n",
      "src/importnb/tests/test_importnb.ipynb::test_parameterize \u001b[32mPASSED\u001b[0m\u001b[36m         [ 25%]\u001b[0m\n",
      "src/importnb/tests/test_importnb.ipynb::test_python_file \u001b[32mPASSED\u001b[0m\u001b[36m          [ 29%]\u001b[0m\n",
      "src/importnb/tests/test_importnb.ipynb::test_single_file_with_capture \u001b[32mPASSED\u001b[0m\u001b[36m [ 33%]\u001b[0m\n",
      "src/importnb/tests/test_importnb.ipynb::test_capturer \u001b[32mPASSED\u001b[0m\u001b[36m             [ 37%]\u001b[0m\n",
      "src/importnb/tests/test_importnb.ipynb::test_single_file_with_lazy \u001b[32mPASSED\u001b[0m\u001b[36m [ 41%]\u001b[0m\n",
      "src/importnb/tests/test_importnb.ipynb::test_single_file_without_context \u001b[33mXPASS\u001b[0m\u001b[36m [ 45%]\u001b[0m\n",
      "src/importnb/tests/test_importnb.ipynb::test_single_file_relative 42\n",
      "\u001b[33mxfail\u001b[0m\u001b[36m  [ 50%]\u001b[0m\n",
      "src/importnb/tests/test_importnb.ipynb::test_single_with_extension \u001b[32mPASSED\u001b[0m\u001b[36m [ 54%]\u001b[0m\n",
      "src/importnb/tests/test_importnb.ipynb::test_package \u001b[32mPASSED\u001b[0m\u001b[36m              [ 58%]\u001b[0m\n",
      "src/importnb/tests/test_importnb.ipynb::test_package_failure \u001b[33mxfail\u001b[0m\u001b[36m       [ 62%]\u001b[0m\n",
      "src/importnb/tests/test_importnb.ipynb::test_package_failure_partial \u001b[32mPASSED\u001b[0m\u001b[36m [ 66%]\u001b[0m\n",
      "src/importnb/tests/test_importnb.ipynb::test_tmp_dir \u001b[32mPASSED\u001b[0m\u001b[36m              [ 70%]\u001b[0m\n",
      "src/importnb/tests/test_unittests.ipynb::TestExtension::test_failure \u001b[33mxfail\u001b[0m\u001b[36m [ 75%]\u001b[0m\n",
      "src/importnb/tests/test_unittests.ipynb::TestExtension::test_import \u001b[32mPASSED\u001b[0m\u001b[36m [ 79%]\u001b[0m\n",
      "src/importnb/tests/test_unittests.ipynb::TestPartial::test_exception \u001b[32mPASSED\u001b[0m\u001b[36m [ 83%]\u001b[0m\n",
      "src/importnb/tests/test_unittests.ipynb::TestPartial::test_traceback \u001b[32mPASSED\u001b[0m\u001b[36m [ 87%]\u001b[0m\n",
      "src/importnb/tests/test_unittests.ipynb::TestContext::test_import \u001b[32mPASSED\u001b[0m\u001b[36m [ 91%]\u001b[0m\n",
      "src/importnb/tests/test_unittests.ipynb::TestContext::test_reload_with_context \u001b[32mPASSED\u001b[0m\u001b[36m [ 95%]\u001b[0m\n",
      "src/importnb/tests/test_unittests.ipynb::TestRemote::test_imports \u001b[33mSKIPPED\u001b[0m\u001b[36m [100%]\u001b[0m\n",
      "\n",
      "---------- coverage: platform darwin, python 3.5.4-final-0 -----------\n",
      "Name                                                   Stmts   Miss  Cover\n",
      "--------------------------------------------------------------------------\n",
      "src/importnb/__init__                                     11     11     0%\n",
      "src/importnb/__main__                                      3      3     0%\n",
      "src/importnb/_version                                      1      1     0%\n",
      "src/importnb/capture                                      59     59     0%\n",
      "src/importnb/execute                                      85     45    47%\n",
      "src/importnb/loader                                      153     88    42%\n",
      "src/importnb/notebooks/__init__                            0      0   100%\n",
      "src/importnb/notebooks/pp                                  1      1     0%\n",
      "src/importnb/notebooks/utils/__init__                      0      0   100%\n",
      "src/importnb/parameterize                                 81     44    46%\n",
      "src/importnb/path_hooks                                   84     34    60%\n",
      "src/importnb/test                                         57     57     0%\n",
      "src/importnb/tests/failure                                 1      0   100%\n",
      "src/importnb/tests/import_this                             1      0   100%\n",
      "src/importnb/tests/pyimport                                3      0   100%\n",
      "src/importnb/tests/test_importnb                           1      0   100%\n",
      "src/importnb/tests/test_unittests                          1      0   100%\n",
      "src/importnb/usage/__init__                                0      0   100%\n",
      "src/importnb/usage/a_project_with_notebooks/__init__       2      2     0%\n",
      "src/importnb/usage/a_project_with_notebooks/foobaz         5      5     0%\n",
      "src/importnb/utils/__init__                                0      0   100%\n",
      "src/importnb/utils/export                                 33     33     0%\n",
      "src/importnb/utils/ipython                                41     41     0%\n",
      "src/importnb/utils/nbdoctest                              36     36     0%\n",
      "src/importnb/utils/pytest_plugin                          24     15    38%\n",
      "src/importnb/utils/setup                                  52     52     0%\n",
      "src/importnb/utils/watch                                  20     20     0%\n",
      "--------------------------------------------------------------------------\n",
      "TOTAL                                                    755    547    28%\n",
      "\n",
      "\n",
      "\u001b[1m\u001b[32m========== 19 passed, 1 skipped, 3 xfailed, 1 xpassed in 4.05 seconds ==========\u001b[0m\n",
      "\n"
     ]
    }
   ],
   "source": [
    "    if __name__ == '__main__':\n",
    "        from pathlib import Path\n",
    "        from importnb.utils.export import export\n",
    "        from importnb.capture import capture_output\n",
    "        root = 'src/importnb/notebooks/'\n",
    "        for path in Path(root).rglob(\"\"\"*.ipynb\"\"\"):                \n",
    "            if 'checkpoint' not in str(path):\n",
    "                export(path, Path('src/importnb') / path.with_suffix('.py').relative_to(root))\n",
    "        with capture_output() as out:\n",
    "            !ipython -m pytest -- src \n",
    "        print('plugins'+out.stdout.split('plugins', 1)[-1])"
   ]
  },
  {
   "cell_type": "code",
   "execution_count": null,
   "metadata": {},
   "outputs": [],
   "source": [
    "    if __name__ == '__main__':\n",
    "        !jupyter nbconvert --to markdown readme.ipynb"
   ]
  },
  {
   "cell_type": "markdown",
   "metadata": {},
   "source": [
    "    if __name__ == '__main__':\n",
    "        from IPython.display import display, Image\n",
    "        !pyreverse importnb -opng -pimportnb\n",
    "        display(*map(Image, ('classes_importnb.png', 'packages_importnb.png')))"
   ]
  }
 ],
 "metadata": {
  "kernelspec": {
   "display_name": "p6",
   "language": "python",
   "name": "other-env"
  },
  "language_info": {
   "codemirror_mode": {
    "name": "ipython",
    "version": 3
   },
   "file_extension": ".py",
   "mimetype": "text/x-python",
   "name": "python",
   "nbconvert_exporter": "python",
   "pygments_lexer": "ipython3",
   "version": "3.6.3"
  }
 },
 "nbformat": 4,
 "nbformat_minor": 2
}
