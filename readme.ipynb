{
 "cells": [
  {
   "cell_type": "markdown",
   "metadata": {},
   "source": [
    "__importnb__ imports notebooks as modules & packages.\n",
    "\n",
    "[![Binder](https://mybinder.org/badge.svg)](https://mybinder.org/v2/gh/deathbeds/importnb/master?urlpath=lab/tree/readme.ipynb)[![Build Status](https://travis-ci.org/deathbeds/importnb.svg?branch=master)](https://travis-ci.org/deathbeds/importnb)[![PyPI version](https://badge.fury.io/py/importnb.svg)](https://badge.fury.io/py/importnb)![PyPI - Python Version](https://img.shields.io/pypi/pyversions/importnb.svg)![PyPI - Format](https://img.shields.io/pypi/format/importnb.svg)![PyPI - Format](https://img.shields.io/pypi/l/importnb.svg)[\n",
    "![Conda](https://img.shields.io/conda/pn/conda-forge/importnb.svg)](https://anaconda.org/conda-forge/importnb)[\n",
    "![GitHub tag](https://img.shields.io/github/tag/deathbeds/importnb.svg)](https://github.com/deathbeds/importnb/tree/master/src/importnb)\n",
    "\n",
    "    pip install importnb\n",
    "    \n",
    "---\n",
    "\n",
    "    conda install -c conda-forge importnb\n",
    "\n",
    "# `importnb` works in Python and IPython\n",
    "\n",
    "Use the `Notebook` context manager.\n",
    "\n",
    "    >>> from importnb import Notebook"
   ]
  },
  {
   "cell_type": "markdown",
   "metadata": {},
   "source": [
    "### For brevity\n",
    "\n",
    "[`importnb.loader`](src/notebooks/loader.ipynb) will find notebooks available anywhere along the [`sys.path`](https://docs.python.org/2/library/sys.html#sys.path)."
   ]
  },
  {
   "cell_type": "code",
   "execution_count": 1,
   "metadata": {},
   "outputs": [],
   "source": [
    "    with __import__('importnb').Notebook(): \n",
    "        import readme"
   ]
  },
  {
   "cell_type": "markdown",
   "metadata": {},
   "source": [
    "#### or explicity "
   ]
  },
  {
   "cell_type": "code",
   "execution_count": 2,
   "metadata": {},
   "outputs": [],
   "source": [
    "    from importnb import Notebook\n",
    "    with Notebook(): \n",
    "        import readme"
   ]
  },
  {
   "cell_type": "code",
   "execution_count": 3,
   "metadata": {},
   "outputs": [],
   "source": [
    "    foo = 42\n",
    "    import readme\n",
    "    assert readme.foo is 42\n",
    "    assert readme.__file__.endswith('.ipynb')"
   ]
  },
  {
   "cell_type": "markdown",
   "metadata": {},
   "source": [
    "### Modules may be reloaded \n",
    "\n",
    "The context manager is required to `reload` a module."
   ]
  },
  {
   "cell_type": "code",
   "execution_count": 4,
   "metadata": {},
   "outputs": [],
   "source": [
    "    from importlib import reload\n",
    "    with Notebook():\n",
    "        reload(readme)"
   ]
  },
  {
   "cell_type": "markdown",
   "metadata": {},
   "source": [
    "### Partial loading\n",
    "\n",
    "The [`importnb.loader.Notebook`](src/notebooks/loader.ipynb#Partial-Loader) will __import__ a notebook even if there is an exception by supplying the `exceptions` option.  The __exception__ is found on `module._exception`."
   ]
  },
  {
   "cell_type": "code",
   "execution_count": 5,
   "metadata": {},
   "outputs": [],
   "source": [
    "    with Notebook(exceptions=BaseException):\n",
    "        try: from . import readme\n",
    "        except: import readme"
   ]
  },
  {
   "cell_type": "markdown",
   "metadata": {},
   "source": [
    "### Lazy imports\n",
    "\n",
    "The `lazy` option will delay the evaluation of a module until one of its attributes are accessed the first time."
   ]
  },
  {
   "cell_type": "code",
   "execution_count": 6,
   "metadata": {},
   "outputs": [],
   "source": [
    "    with Notebook(lazy=True):\n",
    "        import readme"
   ]
  },
  {
   "cell_type": "markdown",
   "metadata": {},
   "source": [
    "## Capture Outputs\n",
    "\n",
    "`importnb` can capture the `stdout`, `stderr`, and `display` in the context manager.  The arguments are similar to `IPython.util.capture.capture_output`."
   ]
  },
  {
   "cell_type": "code",
   "execution_count": 7,
   "metadata": {},
   "outputs": [],
   "source": [
    "    with Notebook(stdout=True, stderr=True, display=True) as output:\n",
    "        import readme"
   ]
  },
  {
   "cell_type": "markdown",
   "metadata": {},
   "source": [
    "### Docstring\n",
    "\n",
    "The first markdown cell will become the module docstring."
   ]
  },
  {
   "cell_type": "code",
   "execution_count": 8,
   "metadata": {},
   "outputs": [
    {
     "name": "stdout",
     "output_type": "stream",
     "text": [
      "__importnb__ imports notebooks as modules & packages.\n"
     ]
    }
   ],
   "source": [
    "    if __name__ == '__main__':\n",
    "        print(readme.__doc__.splitlines()[0])"
   ]
  },
  {
   "cell_type": "markdown",
   "metadata": {},
   "source": [
    "Meaning non-code blocks can be executeb by [doctest]()."
   ]
  },
  {
   "cell_type": "code",
   "execution_count": 9,
   "metadata": {},
   "outputs": [],
   "source": [
    "    if __name__ == '__main__':\n",
    "        __import__('doctest').testmod(readme)"
   ]
  },
  {
   "cell_type": "markdown",
   "metadata": {},
   "source": [
    "# Import notebooks from files\n",
    "\n",
    "Notebook names may not be valid Python paths.  In this case, use `Notebook.from_filename`.\n",
    "\n",
    "       Notebook.from_filename('readme.ipynb')\n",
    "       \n",
    "Import under the `__main__` context.\n",
    "       \n",
    "       Notebook.from_filename('readme.ipynb', main=True)"
   ]
  },
  {
   "cell_type": "markdown",
   "metadata": {},
   "source": [
    "# Parameterize Notebooks\n",
    "\n",
    "Literal ast statements are converted to notebooks parameters.\n",
    "\n",
    "In `readme`, `foo` is a parameter because it may be evaluated with ast.literal_val"
   ]
  },
  {
   "cell_type": "code",
   "execution_count": 10,
   "metadata": {},
   "outputs": [],
   "source": [
    "    from importnb import Parameterize\n",
    "    f = Parameterize().from_filename(readme.__file__)\n",
    "    "
   ]
  },
  {
   "cell_type": "markdown",
   "metadata": {},
   "source": [
    "The parameterized module is a callable that evaluates with different literal statements."
   ]
  },
  {
   "cell_type": "code",
   "execution_count": 11,
   "metadata": {},
   "outputs": [
    {
     "data": {
      "text/plain": [
       "<Signature (*, foo=42)>"
      ]
     },
     "execution_count": 11,
     "metadata": {},
     "output_type": "execute_result"
    }
   ],
   "source": [
    "    assert callable(f)\n",
    "    f.__signature__"
   ]
  },
  {
   "cell_type": "markdown",
   "metadata": {},
   "source": [
    "    assert f().foo == 42\n",
    "    assert f(foo='importnb').foo == 'importnb'"
   ]
  },
  {
   "cell_type": "markdown",
   "metadata": {},
   "source": [
    "# Run Notebooks from the command line\n",
    "\n",
    "Run any notebook from the command line with importnb.  Any parameterized expressions are available as parameters on the command line.\n",
    "\n",
    "    !ipython -m importnb -- readme.ipynb --foo \"I'm the new foo\"\n",
    "    !python -m importnb readme.ipynb --foo \"No I am!\"\n",
    "    \n",
    "After installing the IPython Extension any notebook may be run as any a command line script\n",
    "\n",
    "    !ipython -m readme -- --foo \"look at me\"\n"
   ]
  },
  {
   "cell_type": "markdown",
   "metadata": {},
   "source": [
    "## Integrations\n"
   ]
  },
  {
   "cell_type": "markdown",
   "metadata": {},
   "source": [
    "### IPython\n",
    "\n",
    "#### [IPython Extension](src/notebooks/loader.ipynb#IPython-Extensions)\n",
    "\n",
    "Avoid the use of the context manager using loading importnb as IPython extension.\n",
    "\n",
    "    %load_ext importnb\n",
    "    \n",
    "`%unload_ext importnb` will unload the extension.\n",
    "\n",
    "#### Default Extension\n",
    "\n",
    "`importnb` may allow notebooks to import by default with \n",
    "\n",
    "    importnb-install\n",
    "    \n",
    "This extension will install a script into the default IPython profile startup that is called each time an IPython session is created.  \n",
    "\n",
    "Uninstall the extension with `importnb-install`.\n",
    "\n",
    "##### Run a notebook as a module\n",
    "\n",
    "When the default extension is loaded any notebook can be run from the command line. After the `importnb` extension is created notebooks can be execute from the command line.\n",
    "\n",
    "    ipython -m readme\n",
    "    \n",
    "In the command line context, `__file__ == sys.arv[0] and __name__ == '__main__'` .\n",
    "    \n",
    "> See the [deploy step in the travis build](https://github.com/deathbeds/importnb/blob/docs/.travis.yml#L19)."
   ]
  },
  {
   "cell_type": "markdown",
   "metadata": {},
   "source": [
    "### py.test\n",
    "\n",
    "`importnb` installs a pytest plugin when it is setup.  Any notebook obeying the py.test discovery conventions can be used in to pytest.  _This is great because notebooks are generally your first test._\n",
    "\n",
    "    !ipython -m pytest -- src \n",
    "    \n",
    "Will find all the test notebooks and configurations as pytest would any Python file."
   ]
  },
  {
   "cell_type": "markdown",
   "metadata": {},
   "source": [
    "### Setup\n",
    "\n",
    "To package notebooks add `recursive-include package_name *.ipynb`"
   ]
  },
  {
   "cell_type": "markdown",
   "metadata": {},
   "source": [
    "## Developer"
   ]
  },
  {
   "cell_type": "markdown",
   "metadata": {},
   "source": [
    "* [Source Notebooks](src/notebooks/)\n",
    "* [Transpiled Python Source](src/importnb/)\n",
    "* [Tests](src/importnb/tests)"
   ]
  },
  {
   "cell_type": "markdown",
   "metadata": {},
   "source": [
    "### Format and test the Source Code"
   ]
  },
  {
   "cell_type": "code",
   "execution_count": 12,
   "metadata": {},
   "outputs": [
    {
     "name": "stdout",
     "output_type": "stream",
     "text": [
      "plugins: cov-2.5.1, benchmark-3.1.1, hypothesis-3.56.5, importnb-0.3.0\n",
      "collecting ... collected 25 items\n",
      "\n",
      "src/importnb/tests/test_importnb.ipynb::test_single_file_with_context PASSED [  4%]\n",
      "src/importnb/tests/test_importnb.ipynb::test_from_filename PASSED      [  8%]\n",
      "src/importnb/tests/test_importnb.ipynb::test_from_execute PASSED       [ 12%]\n",
      "src/importnb/tests/test_importnb.ipynb::test_with_doctest PASSED       [ 16%]\n",
      "src/importnb/tests/test_importnb.ipynb::test_from_filename_main PASSED [ 20%]\n",
      "src/importnb/tests/test_importnb.ipynb::test_parameterize PASSED       [ 24%]\n",
      "src/importnb/tests/test_importnb.ipynb::test_commandline PASSED        [ 28%]\n",
      "src/importnb/tests/test_importnb.ipynb::test_python_file PASSED        [ 32%]\n",
      "src/importnb/tests/test_importnb.ipynb::test_single_file_with_capture PASSED [ 36%]\n",
      "src/importnb/tests/test_importnb.ipynb::test_capturer PASSED           [ 40%]\n",
      "src/importnb/tests/test_importnb.ipynb::test_single_file_with_lazy PASSED [ 44%]\n",
      "src/importnb/tests/test_importnb.ipynb::test_single_file_without_context XPASS [ 48%]\n",
      "src/importnb/tests/test_importnb.ipynb::test_single_file_relative 42\n",
      "xfail [ 52%]\n",
      "src/importnb/tests/test_importnb.ipynb::test_single_with_extension PASSED [ 56%]\n",
      "src/importnb/tests/test_importnb.ipynb::test_package PASSED            [ 60%]\n",
      "src/importnb/tests/test_importnb.ipynb::test_package_failure xfail     [ 64%]\n",
      "src/importnb/tests/test_importnb.ipynb::test_package_failure_partial PASSED [ 68%]\n",
      "src/importnb/tests/test_importnb.ipynb::test_tmp_dir PASSED            [ 72%]\n",
      "src/importnb/tests/test_unittests.ipynb::TestExtension::test_failure xfail [ 76%]\n",
      "src/importnb/tests/test_unittests.ipynb::TestExtension::test_import PASSED [ 80%]\n",
      "src/importnb/tests/test_unittests.ipynb::TestContext::test_import PASSED [ 84%]\n",
      "src/importnb/tests/test_unittests.ipynb::TestContext::test_reload_with_context PASSED [ 88%]\n",
      "src/importnb/tests/test_unittests.ipynb::TestPartial::test_exception PASSED [ 92%]\n",
      "src/importnb/tests/test_unittests.ipynb::TestPartial::test_traceback PASSED [ 96%]\n",
      "src/importnb/tests/test_unittests.ipynb::TestRemote::test_imports SKIPPED [100%]\n",
      "\n",
      "---------- coverage: platform darwin, python 3.6.3-final-0 -----------\n",
      "Name                                                      Stmts   Miss  Cover\n",
      "-----------------------------------------------------------------------------\n",
      "src/importnb/Untitled.py                                      3      3     0%\n",
      "src/importnb/__init__.py                                     11     11     0%\n",
      "src/importnb/__main__.py                                      3      3     0%\n",
      "src/importnb/_version.py                                      1      1     0%\n",
      "src/importnb/capture.py                                      59     59     0%\n",
      "src/importnb/execute.py                                      92     49    47%\n",
      "src/importnb/loader.py                                      153     88    42%\n",
      "src/importnb/notebooks/__init__.py                            0      0   100%\n",
      "src/importnb/notebooks/utils/__init__.py                      0      0   100%\n",
      "src/importnb/parameterize.py                                100     63    37%\n",
      "src/importnb/path_hooks.py                                   84     34    60%\n",
      "src/importnb/test.py                                         57     57     0%\n",
      "src/importnb/usage/__init__.py                                0      0   100%\n",
      "src/importnb/usage/a_project_with_notebooks/__init__.py       2      2     0%\n",
      "src/importnb/usage/a_project_with_notebooks/foobaz.py         5      5     0%\n",
      "src/importnb/utils/__init__.py                                0      0   100%\n",
      "src/importnb/utils/export.py                                 33     33     0%\n",
      "src/importnb/utils/ipython.py                                41     41     0%\n",
      "src/importnb/utils/nbdoctest.py                              36     36     0%\n",
      "src/importnb/utils/pytest_plugin.py                          21     12    43%\n",
      "src/importnb/utils/setup.py                                  52     52     0%\n",
      "-----------------------------------------------------------------------------\n",
      "TOTAL                                                       753    549    27%\n",
      "\n",
      "\n",
      "========= 20 passed, 1 skipped, 3 xfailed, 1 xpassed in 4.24 seconds =========\n",
      "\n"
     ]
    }
   ],
   "source": [
    "    if __name__ == '__main__':\n",
    "        from subprocess import call\n",
    "        from importnb.capture import capture_output\n",
    "        with capture_output() as out:  __import__('pytest').main(\"src\".split())\n",
    "        print('plugins'+out.stdout.split('plugins', 1)[-1])\n",
    "            \n",
    "        if 'kernel' in __import__('sys').argv[0]:\n",
    "            \"\"\"Formatting\"\"\"\n",
    "            from pathlib import Path\n",
    "            from importnb.utils.export import export\n",
    "            root = 'src/importnb/notebooks/'\n",
    "            for path in Path(root).rglob(\"\"\"*.ipynb\"\"\"):                \n",
    "                if 'checkpoint' not in str(path):\n",
    "                    export(path, Path('src/importnb') / path.with_suffix('.py').relative_to(root))\n",
    "            call(\"jupyter nbconvert --to markdown --NbConvertApp.output_files_dir=docs/{notebook_name}_files readme.ipynb\".split())\n",
    "        else:\n",
    "            print(foo)"
   ]
  },
  {
   "cell_type": "code",
   "execution_count": 13,
   "metadata": {},
   "outputs": [
    {
     "data": {
      "text/html": [
       "<img src=\"docs/classes_importnb.png\"/>"
      ],
      "text/plain": [
       "<IPython.core.display.Image object>"
      ]
     },
     "metadata": {},
     "output_type": "display_data"
    }
   ],
   "source": [
    "    if __name__ == '__main__':\n",
    "        try:\n",
    "            from IPython.display import display, Image\n",
    "            from IPython import get_ipython\n",
    "            with capture_output(): \n",
    "                get_ipython().system(\"cd docs && pyreverse importnb -opng -pimportnb\")\n",
    "            display(Image(url='docs/classes_importnb.png', ))\n",
    "        except: ..."
   ]
  },
  {
   "cell_type": "code",
   "execution_count": null,
   "metadata": {},
   "outputs": [],
   "source": []
  }
 ],
 "metadata": {
  "kernelspec": {
   "display_name": "p6",
   "language": "python",
   "name": "other-env"
  },
  "language_info": {
   "codemirror_mode": {
    "name": "ipython",
    "version": 3
   },
   "file_extension": ".py",
   "mimetype": "text/x-python",
   "name": "python",
   "nbconvert_exporter": "python",
   "pygments_lexer": "ipython3",
   "version": "3.6.3"
  }
 },
 "nbformat": 4,
 "nbformat_minor": 2
}
