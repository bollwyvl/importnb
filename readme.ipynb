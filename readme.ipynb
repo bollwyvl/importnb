{
 "cells": [
  {
   "cell_type": "markdown",
   "metadata": {},
   "source": [
    "Load the __importnb__ to import notebooks.\n",
    "\n",
    "[![Binder](https://mybinder.org/badge.svg)](https://mybinder.org/v2/gh/deathbeds/importnb/master?filepath=readme.ipynb)"
   ]
  },
  {
   "cell_type": "markdown",
   "metadata": {},
   "source": [
    "## Jupyter Extension"
   ]
  },
  {
   "cell_type": "code",
   "execution_count": 1,
   "metadata": {},
   "outputs": [],
   "source": [
    "    if __name__ == '__main__':\n",
    "        %reload_ext importnb\n",
    "        import readme\n",
    "        assert readme.foo is 42\n",
    "        assert readme.__file__.endswith('.ipynb')\n",
    "    else: \n",
    "        foo = 42\n",
    "        "
   ]
  },
  {
   "cell_type": "markdown",
   "metadata": {},
   "source": [
    "Notebooks maybe reloaded with the standard Python Import machinery."
   ]
  },
  {
   "cell_type": "code",
   "execution_count": 2,
   "metadata": {},
   "outputs": [],
   "source": [
    "    if __name__ == '__main__':\n",
    "        from importnb import Notebook, reload\n",
    "        reload(readme)\n",
    "        %unload_ext importnb"
   ]
  },
  {
   "cell_type": "markdown",
   "metadata": {},
   "source": [
    "## Context Manager"
   ]
  },
  {
   "cell_type": "code",
   "execution_count": 3,
   "metadata": {},
   "outputs": [],
   "source": [
    "    if __name__ == '__main__':\n",
    "        try:  \n",
    "            reload(readme)\n",
    "            assert None, \"\"\"Reloading should not work when the extension is unloaded\"\"\"\n",
    "        except AttributeError: \n",
    "            with Notebook(): reload(readme)"
   ]
  },
  {
   "cell_type": "markdown",
   "metadata": {},
   "source": [
    "## Developer"
   ]
  },
  {
   "cell_type": "code",
   "execution_count": 4,
   "metadata": {},
   "outputs": [
    {
     "name": "stdout",
     "output_type": "stream",
     "text": [
      "[NbConvertApp] Converting notebook readme.ipynb to markdown\n",
      "[NbConvertApp] Writing 1123 bytes to readme.md\n"
     ]
    }
   ],
   "source": [
    "    if __name__ == '__main__':\n",
    "        !jupyter nbconvert --to markdown readme.ipynb"
   ]
  }
 ],
 "metadata": {
  "kernelspec": {
   "display_name": "p6",
   "language": "python",
   "name": "other-env"
  },
  "language_info": {
   "codemirror_mode": {
    "name": "ipython",
    "version": 3
   },
   "file_extension": ".py",
   "mimetype": "text/x-python",
   "name": "python",
   "nbconvert_exporter": "python",
   "pygments_lexer": "ipython3",
   "version": "3.6.3"
  }
 },
 "nbformat": 4,
 "nbformat_minor": 2
}
