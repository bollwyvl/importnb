{
 "cells": [
  {
   "cell_type": "code",
   "execution_count": 1,
   "metadata": {},
   "outputs": [],
   "source": [
    "    from IPython import paths, get_ipython\n",
    "    from IPython.core import profiledir\n",
    "    from pathlib import Path\n",
    "    import json, ast, sys, argparse\n",
    "    import os"
   ]
  },
  {
   "cell_type": "code",
   "execution_count": 2,
   "metadata": {},
   "outputs": [],
   "source": [
    "    def get_config(profile='default'):\n",
    "        profile_dir = profiledir.ProfileDir()\n",
    "        try:\n",
    "            profile = profile_dir.find_profile_dir_by_name(paths.get_ipython_dir(), profile)\n",
    "        except profiledir.ProfileDirError:\n",
    "            os.makedirs(paths.get_ipython_dir(), exist_ok=True)\n",
    "            profile = profile_dir.create_profile_dir_by_name(paths.get_ipython_dir(), profile)\n",
    "        return Path(profile.location, 'ipython_config.json')"
   ]
  },
  {
   "cell_type": "code",
   "execution_count": 3,
   "metadata": {},
   "outputs": [],
   "source": [
    "    def load_config():\n",
    "        location = get_config()\n",
    "        try:\n",
    "            with location.open() as file:    \n",
    "                config = json.load(file)\n",
    "        except (FileNotFoundError, getattr(json, 'JSONDecodeError', ValueError)):\n",
    "            config = {}\n",
    "\n",
    "        if 'InteractiveShellApp' not in config:\n",
    "            config['InteractiveShellApp'] = {}\n",
    "\n",
    "        if 'extensions' not in config['InteractiveShellApp']:\n",
    "            config['InteractiveShellApp']['extensions'] = []\n",
    "\n",
    "        return config, location"
   ]
  },
  {
   "cell_type": "code",
   "execution_count": 6,
   "metadata": {},
   "outputs": [],
   "source": [
    "    def install(projects, uninstall=None):\n",
    "        config, location = load_config()\n",
    "        uninstall = (uninstall or list()) + projects\n",
    "        \n",
    "        _uninstall(projects)\n",
    "\n",
    "        with location.open('w') as file: \n",
    "            json.dump(config, file)\n",
    "            \n",
    "        print(\"\"\"<3 {}\"\"\".format(' '.join(projects)))"
   ]
  },
  {
   "cell_type": "code",
   "execution_count": 7,
   "metadata": {},
   "outputs": [],
   "source": [
    "    def installed(project):\n",
    "        config, location = load_config()\n",
    "        return project in config.get('InteractiveShellApp', {}).get('extensions', [])"
   ]
  },
  {
   "cell_type": "code",
   "execution_count": 8,
   "metadata": {},
   "outputs": [],
   "source": [
    "    def _uninstall(projects):\n",
    "        config, location = load_config()\n",
    "        projects = sys.argv[1:] or [project]\n",
    "        config['InteractiveShellApp']['extensions'] = [\n",
    "            ext for ext in config['InteractiveShellApp']['extensions'] \n",
    "            if ext not in  projects\n",
    "        ]\n",
    "\n",
    "        with location.open('w') as file:  json.dump(config, file)\n",
    "            \n",
    "    def uninstaller(projects):\n",
    "        _uninstall(projects)\n",
    "        print(\"\"\"</3 {}.\"\"\".format('' .join(projects)))"
   ]
  },
  {
   "cell_type": "code",
   "execution_count": 9,
   "metadata": {},
   "outputs": [],
   "source": [
    "    parser = argparse.ArgumentParser()\n",
    "    subparsers = parser.add_subparsers()\n",
    "    installer = subparsers.add_parser('install')\n",
    "    installer.add_argument('projects', nargs='*', default=['importnb'])\n",
    "    installer.add_argument('--uninstall', nargs='*', default=[])\n",
    "    installer.set_defaults(callable=install)\n",
    "    uninstaller = subparsers.add_parser('uninstall')\n",
    "    uninstaller.add_argument('projects', nargs='*', default=['importnb'])\n",
    "    uninstaller.set_defaults(callable=_uninstall)\n",
    "    \n",
    "    "
   ]
  },
  {
   "cell_type": "code",
   "execution_count": 10,
   "metadata": {},
   "outputs": [],
   "source": [
    "    def main():\n",
    "        ns = vars(parser.parse_args())\n",
    "        return ns.pop('callable')(**ns)        "
   ]
  },
  {
   "cell_type": "code",
   "execution_count": 11,
   "metadata": {
    "scrolled": false
   },
   "outputs": [],
   "source": [
    "    if __name__ ==  '__main__':\n",
    "        from importnb.utils.export import export\n",
    "        export('app.ipynb', '../app.py')"
   ]
  },
  {
   "cell_type": "code",
   "execution_count": null,
   "metadata": {},
   "outputs": [],
   "source": []
  }
 ],
 "metadata": {
  "kernelspec": {
   "display_name": "Python 3",
   "language": "python",
   "name": "python3"
  },
  "language_info": {
   "codemirror_mode": {
    "name": "ipython",
    "version": 3
   },
   "file_extension": ".py",
   "mimetype": "text/x-python",
   "name": "python",
   "nbconvert_exporter": "python",
   "pygments_lexer": "ipython3",
   "version": "3.6.6"
  }
 },
 "nbformat": 4,
 "nbformat_minor": 2
}
