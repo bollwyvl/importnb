{
 "cells": [
  {
   "cell_type": "markdown",
   "metadata": {},
   "source": [
    "# The IPython compiler"
   ]
  },
  {
   "cell_type": "code",
   "execution_count": 1,
   "metadata": {},
   "outputs": [],
   "source": [
    "    try:\n",
    "        from .decoder import load\n",
    "    except:\n",
    "        from decoder import load\n",
    "\n",
    "    from nbconvert.exporters.python import PythonExporter as _PythonExporter\n",
    "    from nbconvert.exporters.notebook import NotebookExporter\n",
    "    from nbformat import from_dict\n",
    "    from IPython.core.compilerop import CachingCompiler\n",
    "    from IPython.core.inputsplitter import IPythonInputSplitter\n",
    "    import ast\n",
    "    "
   ]
  },
  {
   "cell_type": "code",
   "execution_count": 2,
   "metadata": {},
   "outputs": [],
   "source": [
    "    class IpythonCompiler(CachingCompiler):\n",
    "        \"\"\"{Shell} provides the IPython machinery to objects.\"\"\"\n",
    "        transform = staticmethod(IPythonInputSplitter().transform_cell)\n",
    "        @property\n",
    "        def ip(Compiler): \n",
    "            \"\"\"The current interactive shell\"\"\"\n",
    "            from IPython import get_ipython\n",
    "            from IPython.core.interactiveshell import InteractiveShell\n",
    "            return get_ipython() or InteractiveShell()\n",
    "        \n",
    "        def ast_transform(Compiler, node):\n",
    "            for visitor in Compiler.ip.ast_transformers: \n",
    "                node = visitor.visit(node)\n",
    "            return node\n",
    "        \n",
    "        def compile(Compiler, ast): \n",
    "            \"\"\"Compile AST to bytecode using the an IPython compiler.\"\"\"\n",
    "            return (Compiler.ip and Compiler.ip.compile or CachingCompiler())(ast, Compiler.filename, 'exec')\n",
    "                \n",
    "        def ast_parse(Compiler, source, filename='<unknown>', symbol='exec', lineno=0): \n",
    "            return ast.increment_lineno(super().ast_parse(source, Compiler.filename, 'exec'), lineno)\n",
    "    \n",
    "    Compiler = IpythonCompiler"
   ]
  },
  {
   "cell_type": "code",
   "execution_count": 3,
   "metadata": {},
   "outputs": [],
   "source": [
    "    class IpythonPythonExporter(_PythonExporter):\n",
    "        def from_file(self, file_stream, resources=None, **kw):\n",
    "            return self.from_notebook_node(from_dict(load(file_stream)), resources, **kw)\n",
    "    PythonExporter = IpythonPythonExporter"
   ]
  },
  {
   "cell_type": "code",
   "execution_count": 4,
   "metadata": {
    "scrolled": false
   },
   "outputs": [],
   "source": [
    "    if __name__ ==  '__main__':\n",
    "        try:  from .compile import export\n",
    "        except: from compile import export\n",
    "        export('compile_ipython.ipynb', '../compile_ipython.py')\n",
    "        __import__('doctest').testmod()"
   ]
  },
  {
   "cell_type": "code",
   "execution_count": null,
   "metadata": {},
   "outputs": [],
   "source": []
  }
 ],
 "metadata": {
  "kernelspec": {
   "display_name": "p6",
   "language": "python",
   "name": "other-env"
  },
  "language_info": {
   "codemirror_mode": {
    "name": "ipython",
    "version": 3
   },
   "file_extension": ".py",
   "mimetype": "text/x-python",
   "name": "python",
   "nbconvert_exporter": "python",
   "pygments_lexer": "ipython3",
   "version": "3.6.3"
  },
  "toc": {
   "colors": {
    "hover_highlight": "#DAA520",
    "running_highlight": "#FF0000",
    "selected_highlight": "#FFD700"
   },
   "moveMenuLeft": true,
   "nav_menu": {
    "height": "29px",
    "width": "252px"
   },
   "navigate_menu": true,
   "number_sections": true,
   "sideBar": true,
   "threshold": 4,
   "toc_cell": false,
   "toc_section_display": "block",
   "toc_window_display": false,
   "widenNotebook": false
  },
  "varInspector": {
   "cols": {
    "lenName": 16,
    "lenType": 16,
    "lenVar": 40
   },
   "kernels_config": {
    "python": {
     "delete_cmd_postfix": "",
     "delete_cmd_prefix": "del ",
     "library": "var_list.py",
     "varRefreshCmd": "print(var_dic_list())"
    },
    "r": {
     "delete_cmd_postfix": ") ",
     "delete_cmd_prefix": "rm(",
     "library": "var_list.r",
     "varRefreshCmd": "cat(var_dic_list()) "
    }
   },
   "types_to_exclude": [
    "module",
    "function",
    "builtin_function_or_method",
    "instance",
    "_Feature"
   ],
   "window_display": false
  }
 },
 "nbformat": 4,
 "nbformat_minor": 2
}
