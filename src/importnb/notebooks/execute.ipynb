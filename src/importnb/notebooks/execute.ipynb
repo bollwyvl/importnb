{
 "cells": [
  {
   "cell_type": "markdown",
   "metadata": {},
   "source": [
    "# The `Execute` importer\n",
    "\n",
    "The execute importer maintains an attribute that includes the notebooks inputs and outputs.\n",
    "\n",
    "    >>> import importnb    \n",
    "    >>> from importnb import notebooks\n",
    "    >>> with Execute(stdout=True):\n",
    "    ...      from importnb.notebooks import execute as nb\n",
    "    \n",
    "An executed notebook contains a `__notebook__` attributes that is populated with cell outputs.\n",
    "\n",
    "    >>> assert nb.__notebook__\n",
    "    \n",
    "The `__notebook__` attribute complies with `nbformat`\n",
    "\n",
    "    >>> from nbformat.v4 import new_notebook\n",
    "    >>> assert new_notebook(**nb.__notebook__), \"\"\"The notebook is not a valid nbformat\"\"\"\n",
    "    "
   ]
  },
  {
   "cell_type": "code",
   "execution_count": 1,
   "metadata": {},
   "outputs": [
    {
     "name": "stdout",
     "output_type": "stream",
     "text": [
      "11\n"
     ]
    }
   ],
   "source": [
    "    try:\n",
    "        \n",
    "        from .capture import capture_output\n",
    "        from .loader import Partial\n",
    "        from .decoder import loads_ast, identity, loads, dedent\n",
    "    except:\n",
    "        from capture import capture_output\n",
    "        from loader import Partial\n",
    "        from decoder import loads_ast, identity, loads, dedent\n",
    "\n",
    "    import inspect, sys, ast\n",
    "    from functools import partialmethod, partial\n",
    "    from importlib import reload, _bootstrap\n",
    "    from traceback import print_exc, format_exc\n",
    "    from warnings import warn\n",
    "    import traceback\n",
    "    __all__ = 'Notebook', 'Partial', 'reload', 'Lazy'"
   ]
  },
  {
   "cell_type": "code",
   "execution_count": 2,
   "metadata": {},
   "outputs": [],
   "source": [
    "    def new_stream(text, name='stdout'):\n",
    "        return {'name': name, 'output_type': 'stream', 'text': text}\n",
    "\n",
    "    def new_error(Exception):\n",
    "        return {\n",
    "            'ename': type(Exception).__name__, \n",
    "            'output_type': 'error', \n",
    "            'evalue': str(Exception),\n",
    "            'traceback': traceback.format_tb(Exception.__traceback__)}\n",
    "    \n",
    "\n",
    "    def new_display(object):\n",
    "        return {\n",
    "            'data': object.data,\n",
    "            \"metadata\": {},\n",
    "             \"output_type\": \"display_data\"        \n",
    "        }"
   ]
  },
  {
   "cell_type": "code",
   "execution_count": 3,
   "metadata": {},
   "outputs": [],
   "source": [
    "    def cell_to_ast(object, transform=identity, ast_transform=identity, prefix=False):\n",
    "        module = ast.increment_lineno(\n",
    "            ast.parse(\n",
    "                transform(\"\".join(object[\"source\"]))\n",
    "            ), object[\"metadata\"].get(\"lineno\", 1)\n",
    "        )\n",
    "        prefix and module.body.insert(0, ast.Expr(ast.Ellipsis())) \n",
    "        return ast.fix_missing_locations(ast_transform(module))"
   ]
  },
  {
   "cell_type": "code",
   "execution_count": 4,
   "metadata": {},
   "outputs": [],
   "source": [
    "    class Execute(Partial):\n",
    "        \"\"\"A SourceFileLoader for notebooks that provides line number debugginer in the JSON source.\"\"\"\n",
    "        def exec_module(self, module):\n",
    "            \"\"\"All exceptions specific in the context.\n",
    "            \"\"\"\n",
    "            module.__notebook__ = self._loads(self.get_data(self.path).decode('utf-8'))\n",
    "            for cell in module.__notebook__['cells']:\n",
    "                if 'outputs' in cell: cell['outputs'] = []\n",
    "            for i, cell in enumerate(module.__notebook__['cells']):\n",
    "                if cell['cell_type'] == 'code':\n",
    "                    error = None\n",
    "                    with capture_output(stdout=self.stdout, stderr=self.stderr, display=self.display) as out:\n",
    "                        try: \n",
    "                            code = self._compile(\n",
    "                                    cell_to_ast(\n",
    "                                        cell, transform=self._transform, ast_transform=self._ast_transform, prefix=i > 0\n",
    "                                    ), self.path or '<notebook-compiled>', 'exec')\n",
    "                            _bootstrap._call_with_frames_removed(exec, code, module.__dict__)\n",
    "                        except self._exceptions as e: \n",
    "                            error = new_error(e)\n",
    "                            break\n",
    "                        finally: \n",
    "                            if out.outputs: cell['outputs'] += [new_display(object) for object in out.outputs]\n",
    "                            if out.stdout: cell['outputs'] += [new_stream(out.stdout)]\n",
    "                            if error: cell['outputs'] += [error]\n",
    "                            if out.stderr: cell['outputs'] += [new_stream(out.stderr, 'stderr')]"
   ]
  },
  {
   "cell_type": "code",
   "execution_count": 5,
   "metadata": {},
   "outputs": [],
   "source": [
    "    if __name__ == '__main__':\n",
    "        m = Execute(stdout=True).from_filename('loader.ipynb')"
   ]
  },
  {
   "cell_type": "markdown",
   "metadata": {},
   "source": [
    "# Developer"
   ]
  },
  {
   "cell_type": "code",
   "execution_count": 6,
   "metadata": {
    "scrolled": false
   },
   "outputs": [
    {
     "name": "stdout",
     "output_type": "stream",
     "text": [
      "Trying:\n",
      "    import importnb    \n",
      "Expecting nothing\n",
      "ok\n",
      "Trying:\n",
      "    from importnb import notebooks\n",
      "Expecting nothing\n",
      "ok\n",
      "Trying:\n",
      "    with Execute(stdout=True):\n",
      "         from importnb.notebooks import execute as nb\n",
      "Expecting nothing\n",
      "ok\n",
      "Trying:\n",
      "    assert nb.__notebook__\n",
      "Expecting nothing\n",
      "ok\n",
      "Trying:\n",
      "    from nbformat.v4 import new_notebook\n",
      "Expecting nothing\n",
      "ok\n",
      "Trying:\n",
      "    assert new_notebook(**nb.__notebook__), \"\"\"The notebook is not a valid nbformat\"\"\"\n",
      "Expecting nothing\n",
      "ok\n",
      "6 items had no tests:\n",
      "    execute.Execute\n",
      "    execute.Execute.exec_module\n",
      "    execute.cell_to_ast\n",
      "    execute.new_display\n",
      "    execute.new_error\n",
      "    execute.new_stream\n",
      "1 items passed all tests:\n",
      "   6 tests in execute\n",
      "6 tests in 7 items.\n",
      "6 passed and 0 failed.\n",
      "Test passed.\n"
     ]
    }
   ],
   "source": [
    "    if __name__ ==  '__main__':\n",
    "        try:  from utils.export import export\n",
    "        except: from .utils.export import export\n",
    "        export('execute.ipynb', '../execute.py')\n",
    "        module = Execute().from_filename('execute.ipynb')\n",
    "        __import__('doctest').testmod(module, verbose=2)"
   ]
  }
 ],
 "metadata": {
  "kernelspec": {
   "display_name": "p6",
   "language": "python",
   "name": "other-env"
  },
  "language_info": {
   "codemirror_mode": {
    "name": "ipython",
    "version": 3
   },
   "file_extension": ".py",
   "mimetype": "text/x-python",
   "name": "python",
   "nbconvert_exporter": "python",
   "pygments_lexer": "ipython3",
   "version": "3.6.3"
  },
  "toc": {
   "colors": {
    "hover_highlight": "#DAA520",
    "running_highlight": "#FF0000",
    "selected_highlight": "#FFD700"
   },
   "moveMenuLeft": true,
   "nav_menu": {
    "height": "29px",
    "width": "252px"
   },
   "navigate_menu": true,
   "number_sections": true,
   "sideBar": true,
   "threshold": 4,
   "toc_cell": false,
   "toc_section_display": "block",
   "toc_window_display": false,
   "widenNotebook": false
  },
  "varInspector": {
   "cols": {
    "lenName": 16,
    "lenType": 16,
    "lenVar": 40
   },
   "kernels_config": {
    "python": {
     "delete_cmd_postfix": "",
     "delete_cmd_prefix": "del ",
     "library": "var_list.py",
     "varRefreshCmd": "print(var_dic_list())"
    },
    "r": {
     "delete_cmd_postfix": ") ",
     "delete_cmd_prefix": "rm(",
     "library": "var_list.r",
     "varRefreshCmd": "cat(var_dic_list()) "
    }
   },
   "types_to_exclude": [
    "module",
    "function",
    "builtin_function_or_method",
    "instance",
    "_Feature"
   ],
   "window_display": false
  }
 },
 "nbformat": 4,
 "nbformat_minor": 2
}
