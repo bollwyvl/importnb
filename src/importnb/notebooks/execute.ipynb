{
 "cells": [
  {
   "cell_type": "markdown",
   "metadata": {},
   "source": [
    "# The `Execute` importer\n",
    "\n",
    "The execute importer maintains an attribute that includes the notebooks inputs and outputs.\n",
    "\n",
    "    >>> import importnb    \n",
    "    >>> from importnb import notebooks\n",
    "    >>> with Execute(stdout=True):\n",
    "    ...      from importnb.notebooks import execute as nb\n",
    "    \n",
    "An executed notebook contains a `__notebook__` attributes that is populated with cell outputs.\n",
    "\n",
    "    >>> assert nb._notebook\n",
    "    \n",
    "The `__notebook__` attribute complies with `nbformat`\n",
    "\n",
    "    >>> from nbformat.v4 import new_notebook\n",
    "    >>> assert new_notebook(**nb._notebook), \"\"\"The notebook is not a valid nbformat\"\"\"\n",
    "    "
   ]
  },
  {
   "cell_type": "code",
   "execution_count": 1,
   "metadata": {},
   "outputs": [],
   "source": [
    "    if globals().get('show', None):\n",
    "        print('I am tested.')"
   ]
  },
  {
   "cell_type": "code",
   "execution_count": 2,
   "metadata": {},
   "outputs": [],
   "source": [
    "    try:\n",
    "        from .capture import capture_output\n",
    "        from .loader import Notebook, advanced_exec_module\n",
    "        from .decoder import identity, loads, dedent\n",
    "    except:\n",
    "        from capture import capture_output\n",
    "        from loader import Notebook, advanced_exec_module\n",
    "        from decoder import identity, loads, dedent\n",
    "\n",
    "    import inspect, sys, ast\n",
    "    from functools import partialmethod, partial\n",
    "    from importlib import reload, _bootstrap\n",
    "    from importlib._bootstrap import _call_with_frames_removed, _new_module\n",
    "\n",
    "    import traceback    \n",
    "    from traceback import print_exc, format_exc, format_tb\n",
    "    from pathlib import Path\n",
    "        \n",
    "    from ast import NodeTransformer, parse, Assign, literal_eval, dump, fix_missing_locations, Str, Tuple, Ellipsis, Interactive\n",
    "    from collections import ChainMap        \n",
    "    \n",
    "    __all__ = 'Notebook', 'Partial', 'reload', 'Lazy'"
   ]
  },
  {
   "cell_type": "markdown",
   "metadata": {},
   "source": [
    "# Loaders that reproduce notebook outputs"
   ]
  },
  {
   "cell_type": "code",
   "execution_count": 3,
   "metadata": {},
   "outputs": [],
   "source": [
    "    def loader_include_notebook(loader, module): \n",
    "        if not hasattr(module, '_notebook'):\n",
    "            module._notebook = loads(loader.get_data(loader.path).decode('utf-8'))"
   ]
  },
  {
   "cell_type": "markdown",
   "metadata": {},
   "source": [
    "## Recreating IPython output objectss"
   ]
  },
  {
   "cell_type": "code",
   "execution_count": 4,
   "metadata": {},
   "outputs": [],
   "source": [
    "    def new_stream(text, name='stdout'):\n",
    "        return {'name': name, 'output_type': 'stream', 'text': text}\n",
    "\n",
    "    def new_error(Exception):\n",
    "        return {'ename': type(Exception).__name__, \n",
    "                'output_type': 'error', \n",
    "                'evalue': str(Exception),\n",
    "                'traceback': format_tb(Exception.__traceback__)}\n",
    "\n",
    "    def new_display(object):\n",
    "        return {'data': object.data,\n",
    "                \"metadata\": {},\n",
    "                \"output_type\": \"display_data\"}"
   ]
  },
  {
   "cell_type": "markdown",
   "metadata": {},
   "source": [
    "# Reproduce notebooks with the `Execute` class."
   ]
  },
  {
   "cell_type": "code",
   "execution_count": 5,
   "metadata": {},
   "outputs": [],
   "source": [
    "    class Interactive(Notebook):\n",
    "            \"\"\"The Execute loader reproduces outputs in the module._notebook attribute.\n",
    "\n",
    "            >>> nb_raw = Notebook(display=True, stdout=True).from_filename('execute.ipynb', 'importnb.notebooks')\n",
    "            >>> with Execute(display=True, stdout=True) as loader:\n",
    "            ...    nb = loader.from_filename('execute.ipynb', 'importnb.notebooks', show=True)\n",
    "\n",
    "            The loader includes the first markdown cell or leading block string as the docstring.\n",
    "\n",
    "            >>> assert nb.__doc__ and nb_raw.__doc__ \n",
    "            >>> assert nb.__doc__ == nb_raw.__doc__\n",
    "\n",
    "            Nothing should have been executed.\n",
    "\n",
    "            >>> assert any(cell.get('outputs', None) for cell in nb._notebook['cells'])        \n",
    "            \"\"\"\n",
    "\n",
    "            @advanced_exec_module         \n",
    "            def exec_module(self, module, **globals):\n",
    "                loader_include_notebook(self, module)\n",
    "                for i, cell in enumerate(module._notebook['cells']):\n",
    "                    if module._exception: break\n",
    "                    self.exec_cell(module, cell, index=i)\n",
    "\n",
    "            def exec_cell(self, module, cell, index=0):\n",
    "                \"\"\"Returns an error if there was one.\"\"\"\n",
    "                _call_with_frames_removed(exec, self.source_to_code(cell, interactive=bool(index)), module.__dict__, module.__dict__)\n",
    "\n",
    "            def visit_Module(self, node): return ast.Interactive(body=super().visit_Module(node).body)\n",
    "\n",
    "            def source_to_code(loader, cell, path=None, interactive=True):\n",
    "                \"\"\"Transform ast modules into Interactive and Expression nodes. This \n",
    "                will allow the cell outputs to be captured.  `interactive` is only true for\n",
    "                the first markdown cell.\n",
    "                \"\"\"\n",
    "\n",
    "                node = loader.visit(cell)\n",
    "                \n",
    "                if isinstance(node, ast.Expr): \n",
    "                    node = ast.Expression(body=node.value) if interactive else ast.Module(body=[node])\n",
    "                    \n",
    "                if isinstance(node, ast.Expression): mode = 'eval'\n",
    "                if isinstance(node, ast.Interactive): mode = 'single'\n",
    "                if isinstance(node, ast.Module):mode = 'exec'\n",
    "\n",
    "                return compile(node, path or \"<importnb>\", mode)        "
   ]
  },
  {
   "cell_type": "code",
   "execution_count": 6,
   "metadata": {},
   "outputs": [],
   "source": [
    "    if __name__ == '__main__':\n",
    "        nb = Interactive(exceptions=BaseException).from_filename('execute.ipynb', 'importnb.notebooks')"
   ]
  },
  {
   "cell_type": "code",
   "execution_count": 7,
   "metadata": {},
   "outputs": [],
   "source": [
    "    class Execute(Interactive):\n",
    "        \"\"\"The Execute loader reproduces outputs in the module._notebook attribute.\n",
    "    \n",
    "        >>> nb_raw = Notebook(display=True, stdout=True).from_filename('execute.ipynb', 'importnb.notebooks')\n",
    "        >>> with Execute(display=True, stdout=True) as loader:\n",
    "        ...    nb = loader.from_filename('execute.ipynb', 'importnb.notebooks', show=True)\n",
    "        \n",
    "        The loader includes the first markdown cell or leading block string as the docstring.\n",
    "        \n",
    "        >>> assert nb.__doc__ and nb_raw.__doc__ \n",
    "        >>> assert nb.__doc__ == nb_raw.__doc__\n",
    "    \n",
    "        Nothing should have been executed.\n",
    "        \n",
    "        >>> assert any(cell.get('outputs', None) for cell in nb._notebook['cells'])        \n",
    "        \"\"\"\n",
    "        @advanced_exec_module\n",
    "        def exec_module(self, module):\n",
    "            loader_include_notebook(self, module)\n",
    "            for cell in module._notebook['cells']: \n",
    "                if 'outputs' in cell: cell['outputs'] = []\n",
    "            super().exec_module(module)\n",
    "            \n",
    "        def exec_cell(self, module, cell, index=0):\n",
    "            error = None\n",
    "            with capture_output() as out:\n",
    "                exception = super().exec_cell(module, cell, index=index)\n",
    "                if 'outputs' in cell:\n",
    "                    if out.outputs: cell['outputs'] += [new_display(object) for object in out.outputs]\n",
    "                    if out.stdout: \n",
    "                        cell['outputs'] += [new_stream(out.stdout)]\n",
    "                    if error: cell['outputs'] += [error]\n",
    "                    if out.stderr:  cell['outputs'] += [new_stream(out.stderr, 'stderr')]\n",
    "            out.show()"
   ]
  },
  {
   "cell_type": "code",
   "execution_count": 8,
   "metadata": {},
   "outputs": [],
   "source": [
    "    if __name__ == '__main__':\n",
    "        nb = Execute(display=True).from_filename('execute.ipynb', 'importnb.notebooks')"
   ]
  },
  {
   "cell_type": "markdown",
   "metadata": {},
   "source": [
    "# Parameterizing notebooks"
   ]
  },
  {
   "cell_type": "code",
   "execution_count": 9,
   "metadata": {},
   "outputs": [],
   "source": [
    "    class AssignmentFinder(NodeTransformer):\n",
    "        visit_Interactive = visit_Module = NodeTransformer.generic_visit\n",
    "        \n",
    "        def visit_Assign(self, node):\n",
    "            if len(node.targets):\n",
    "                try:\n",
    "                    if not getattr(node.targets[0], 'id', '_').startswith('_'):\n",
    "                        literal_eval(node.value)\n",
    "                        return node\n",
    "                except: ...\n",
    "            \n",
    "        def generic_visit(self, node): ..."
   ]
  },
  {
   "cell_type": "code",
   "execution_count": 10,
   "metadata": {},
   "outputs": [],
   "source": [
    "    class AssignmentIgnore(AssignmentFinder):\n",
    "        def visit_Assign(self, node):\n",
    "            if isinstance(super().visit_Assign(node), ast.Assign):\n",
    "                return ast.Expr(ast.NameConstant(value=None))\n",
    "            return node\n",
    "            \n",
    "        generic_visit = Execute.generic_visit"
   ]
  },
  {
   "cell_type": "code",
   "execution_count": 11,
   "metadata": {},
   "outputs": [],
   "source": [
    "    class Parameterize(Execute):\n",
    "        \"\"\"Discover any literal ast expression and create parameters from them. \n",
    "        \n",
    "        >>> f = Parameterize().from_filename('execute.ipynb', 'importnb.notebooks')\n",
    "        >>> assert 'a_variable_to_parameterize' in f.__signature__.parameters\n",
    "        >>> assert f(a_variable_to_parameterize=100).a_variable_to_parameterize == 100\n",
    "        \n",
    "        Parametize is a NodeTransformer that import any nodes return by Parameterize Node.\n",
    "        \n",
    "        >>> assert len(Parameterize().visit(ast.parse('''\n",
    "        ... foo = 42\n",
    "        ... bar = foo''')).body) ==2\n",
    "        \"\"\"      \n",
    "        def create_module(self, spec):\n",
    "            module = super().create_module(spec)\n",
    "            \n",
    "            # Import the notebook when parameterize is imported\n",
    "            loader_include_notebook(self, module)\n",
    "            \n",
    "            node = Notebook().visit(module._notebook)\n",
    "            \n",
    "            # Extra effort to supply a docstring\n",
    "            doc = None\n",
    "            if isinstance(node, ast.Module) and node.body: \n",
    "                _node = node.body[0]\n",
    "                if isinstance(_node, ast.Expr) and isinstance(_node.value, ast.Str):\n",
    "                    doc = _node\n",
    "                    \n",
    "                # Discover the parameterizable nodes\n",
    "            params = AssignmentFinder().visit(node)\n",
    "            # Include the string in the compilation\n",
    "            doc and params.body.insert(0, doc)\n",
    "            \n",
    "            # Supply the literal parameter values as module globals.\n",
    "            exec(compile(params, '<parameterize>', 'exec'), module.__dict__, module.__dict__)\n",
    "            return module\n",
    "        \n",
    "        def from_filename(self, filename, path=None, **globals):\n",
    "            module = super().from_filename(filename, path, exec=False)            \n",
    "            \n",
    "            def recall(**kwargs):\n",
    "                nonlocal module, globals\n",
    "                module.__loader__.exec_module(module, **ChainMap(kwargs, globals))\n",
    "                return module\n",
    "            \n",
    "            recall.__signature__ = vars_to_sig(**{k: v for k, v in module.__dict__.items() if not k.startswith('_')})\n",
    "            recall.__doc__ = module.__doc__\n",
    "            return recall\n",
    "        \n",
    "        def visit(self, node):\n",
    "            return AssignmentIgnore().visit(super().visit(node))"
   ]
  },
  {
   "cell_type": "code",
   "execution_count": 12,
   "metadata": {},
   "outputs": [],
   "source": [
    "    def vars_to_sig(**vars):\n",
    "        \"\"\"Create a signature for a dictionary of names.\"\"\"\n",
    "        from inspect import Parameter, Signature\n",
    "        return Signature([Parameter(str, Parameter.KEYWORD_ONLY, default = vars[str]) for str in vars])"
   ]
  },
  {
   "cell_type": "code",
   "execution_count": 13,
   "metadata": {},
   "outputs": [],
   "source": [
    "    if __name__ == '__main__':\n",
    "        f = Parameterize(exceptions=BaseException).from_filename('execute.ipynb', 'importnb.notebooks')\n",
    "        m = f(a_variable_to_parameterize=1000)"
   ]
  },
  {
   "cell_type": "code",
   "execution_count": 14,
   "metadata": {},
   "outputs": [],
   "source": [
    "    a_variable_to_parameterize = 42"
   ]
  },
  {
   "cell_type": "markdown",
   "metadata": {},
   "source": [
    "# Developer"
   ]
  },
  {
   "cell_type": "code",
   "execution_count": 15,
   "metadata": {
    "scrolled": false
   },
   "outputs": [
    {
     "name": "stdout",
     "output_type": "stream",
     "text": [
      "Trying:\n",
      "    import importnb    \n",
      "Expecting nothing\n",
      "ok\n",
      "Trying:\n",
      "    from importnb import notebooks\n",
      "Expecting nothing\n",
      "ok\n",
      "Trying:\n",
      "    with Execute(stdout=True):\n",
      "         from importnb.notebooks import execute as nb\n",
      "Expecting nothing\n",
      "ok\n",
      "Trying:\n",
      "    assert nb._notebook\n",
      "Expecting nothing\n",
      "ok\n",
      "Trying:\n",
      "    from nbformat.v4 import new_notebook\n",
      "Expecting nothing\n",
      "ok\n",
      "Trying:\n",
      "    assert new_notebook(**nb._notebook), \"\"\"The notebook is not a valid nbformat\"\"\"\n",
      "Expecting nothing\n",
      "ok\n",
      "Trying:\n",
      "    nb_raw = Notebook(display=True, stdout=True).from_filename('execute.ipynb', 'importnb.notebooks')\n",
      "Expecting nothing\n",
      "ok\n",
      "Trying:\n",
      "    with Execute(display=True, stdout=True) as loader:\n",
      "       nb = loader.from_filename('execute.ipynb', 'importnb.notebooks', show=True)\n",
      "Expecting nothing\n",
      "ok\n",
      "Trying:\n",
      "    assert nb.__doc__ and nb_raw.__doc__ \n",
      "Expecting nothing\n",
      "ok\n",
      "Trying:\n",
      "    assert nb.__doc__ == nb_raw.__doc__\n",
      "Expecting nothing\n",
      "ok\n",
      "Trying:\n",
      "    assert any(cell.get('outputs', None) for cell in nb._notebook['cells'])        \n",
      "Expecting nothing\n",
      "ok\n",
      "Trying:\n",
      "    nb_raw = Notebook(display=True, stdout=True).from_filename('execute.ipynb', 'importnb.notebooks')\n",
      "Expecting nothing\n",
      "ok\n",
      "Trying:\n",
      "    with Execute(display=True, stdout=True) as loader:\n",
      "       nb = loader.from_filename('execute.ipynb', 'importnb.notebooks', show=True)\n",
      "Expecting nothing\n",
      "ok\n",
      "Trying:\n",
      "    assert nb.__doc__ and nb_raw.__doc__ \n",
      "Expecting nothing\n",
      "ok\n",
      "Trying:\n",
      "    assert nb.__doc__ == nb_raw.__doc__\n",
      "Expecting nothing\n",
      "ok\n",
      "Trying:\n",
      "    assert any(cell.get('outputs', None) for cell in nb._notebook['cells'])        \n",
      "Expecting nothing\n",
      "ok\n",
      "Trying:\n",
      "    f = Parameterize().from_filename('execute.ipynb', 'importnb.notebooks')\n",
      "Expecting nothing\n",
      "ok\n",
      "Trying:\n",
      "    assert 'a_variable_to_parameterize' in f.__signature__.parameters\n",
      "Expecting nothing\n",
      "ok\n",
      "Trying:\n",
      "    assert f(a_variable_to_parameterize=100).a_variable_to_parameterize == 100\n",
      "Expecting nothing\n",
      "ok\n",
      "Trying:\n",
      "    assert len(Parameterize().visit(ast.parse('''\n",
      "    foo = 42\n",
      "    bar = foo''')).body) ==2\n",
      "Expecting nothing\n",
      "ok\n",
      "17 items had no tests:\n",
      "    execute.AssignmentFinder\n",
      "    execute.AssignmentFinder.generic_visit\n",
      "    execute.AssignmentFinder.visit_Assign\n",
      "    execute.AssignmentIgnore\n",
      "    execute.AssignmentIgnore.visit_Assign\n",
      "    execute.Execute.exec_cell\n",
      "    execute.Interactive.exec_cell\n",
      "    execute.Interactive.source_to_code\n",
      "    execute.Interactive.visit_Module\n",
      "    execute.Parameterize.create_module\n",
      "    execute.Parameterize.from_filename\n",
      "    execute.Parameterize.visit\n",
      "    execute.loader_include_notebook\n",
      "    execute.new_display\n",
      "    execute.new_error\n",
      "    execute.new_stream\n",
      "    execute.vars_to_sig\n",
      "4 items passed all tests:\n",
      "   6 tests in execute\n",
      "   5 tests in execute.Execute\n",
      "   5 tests in execute.Interactive\n",
      "   4 tests in execute.Parameterize\n",
      "20 tests in 21 items.\n",
      "20 passed and 0 failed.\n",
      "Test passed.\n"
     ]
    }
   ],
   "source": [
    "    if __name__ == '__main__':\n",
    "        try:  from utils.export import export\n",
    "        except: from .utils.export import export\n",
    "        export('execute.ipynb', '../execute.py')\n",
    "        module = Execute().from_filename('execute.ipynb')\n",
    "        __import__('doctest').testmod(module, verbose=2)"
   ]
  },
  {
   "cell_type": "markdown",
   "metadata": {},
   "source": [
    "How do the interactive nodes work?"
   ]
  },
  {
   "cell_type": "code",
   "execution_count": null,
   "metadata": {},
   "outputs": [],
   "source": []
  }
 ],
 "metadata": {
  "kernelspec": {
   "display_name": "p6",
   "language": "python",
   "name": "other-env"
  },
  "language_info": {
   "codemirror_mode": {
    "name": "ipython",
    "version": 3
   },
   "file_extension": ".py",
   "mimetype": "text/x-python",
   "name": "python",
   "nbconvert_exporter": "python",
   "pygments_lexer": "ipython3",
   "version": "3.6.3"
  },
  "toc": {
   "colors": {
    "hover_highlight": "#DAA520",
    "running_highlight": "#FF0000",
    "selected_highlight": "#FFD700"
   },
   "moveMenuLeft": true,
   "nav_menu": {
    "height": "29px",
    "width": "252px"
   },
   "navigate_menu": true,
   "number_sections": true,
   "sideBar": true,
   "threshold": 4,
   "toc_cell": false,
   "toc_section_display": "block",
   "toc_window_display": false,
   "widenNotebook": false
  },
  "varInspector": {
   "cols": {
    "lenName": 16,
    "lenType": 16,
    "lenVar": 40
   },
   "kernels_config": {
    "python": {
     "delete_cmd_postfix": "",
     "delete_cmd_prefix": "del ",
     "library": "var_list.py",
     "varRefreshCmd": "print(var_dic_list())"
    },
    "r": {
     "delete_cmd_postfix": ") ",
     "delete_cmd_prefix": "rm(",
     "library": "var_list.r",
     "varRefreshCmd": "cat(var_dic_list()) "
    }
   },
   "types_to_exclude": [
    "module",
    "function",
    "builtin_function_or_method",
    "instance",
    "_Feature"
   ],
   "window_display": false
  }
 },
 "nbformat": 4,
 "nbformat_minor": 2
}
