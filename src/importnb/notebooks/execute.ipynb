{
 "cells": [
  {
   "cell_type": "markdown",
   "metadata": {},
   "source": [
    "# The `Execute` importer\n",
    "\n",
    "`Interactive` and `Execute` contain the notebook as an object.  The execute importer maintains an attribute that includes the notebooks inputs and outputs.\n",
    "\n",
    "    >>> import importnb    \n",
    "    >>> from importnb import notebooks\n",
    "    >>> with Execute(stdout=True):\n",
    "    ...      from importnb.notebooks import execute as nb\n",
    "    \n",
    "An executed notebook contains a `__notebook__` attributes that is populated with cell outputs.\n",
    "\n",
    "    >>> assert nb._notebook\n",
    "    \n",
    "The `__notebook__` attribute complies with `nbformat`\n",
    "\n",
    "    >>> from nbformat.v4 import new_notebook\n",
    "    >>> assert new_notebook(**nb._notebook), \"\"\"The notebook is not a valid nbformat\"\"\"\n",
    "    "
   ]
  },
  {
   "cell_type": "code",
   "execution_count": 1,
   "metadata": {},
   "outputs": [],
   "source": [
    "    if globals().get('show', None):\n",
    "        print('I am tested.')"
   ]
  },
  {
   "cell_type": "code",
   "execution_count": 2,
   "metadata": {},
   "outputs": [],
   "source": [
    "    try:\n",
    "        from .capture import capture_output\n",
    "        from .loader import Notebook, advanced_exec_module\n",
    "        from .decoder import loads\n",
    "    except:\n",
    "        from capture import capture_output\n",
    "        from loader import Notebook, advanced_exec_module\n",
    "        from decoder import loads\n",
    "\n",
    "    import ast\n",
    "    from importlib._bootstrap import _call_with_frames_removed\n",
    "\n",
    "    from traceback import format_tb\n",
    "        \n",
    "    __all__ = 'Interactive', 'Execute'"
   ]
  },
  {
   "cell_type": "markdown",
   "metadata": {},
   "source": [
    "# Loaders that reproduce notebook outputs"
   ]
  },
  {
   "cell_type": "code",
   "execution_count": 3,
   "metadata": {},
   "outputs": [],
   "source": [
    "    def loader_include_notebook(loader, module): \n",
    "        if not hasattr(module, '_notebook'):\n",
    "            module._notebook = loads(loader.get_data(loader.path).decode('utf-8'))"
   ]
  },
  {
   "cell_type": "markdown",
   "metadata": {},
   "source": [
    "## Recreating IPython output objectss"
   ]
  },
  {
   "cell_type": "code",
   "execution_count": 4,
   "metadata": {},
   "outputs": [],
   "source": [
    "    def new_stream(text, name='stdout'):\n",
    "        return {'name': name, 'output_type': 'stream', 'text': text}\n",
    "\n",
    "    def new_error(Exception):\n",
    "        return {'ename': type(Exception).__name__, \n",
    "                'output_type': 'error', \n",
    "                'evalue': str(Exception),\n",
    "                'traceback': format_tb(Exception.__traceback__)}\n",
    "\n",
    "    def new_display(object):\n",
    "        return {'data': object.data,\n",
    "                \"metadata\": {},\n",
    "                \"output_type\": \"display_data\"}"
   ]
  },
  {
   "cell_type": "markdown",
   "metadata": {},
   "source": [
    "# Reproduce notebooks with the `Execute` class."
   ]
  },
  {
   "cell_type": "code",
   "execution_count": 5,
   "metadata": {},
   "outputs": [],
   "source": [
    "    def exec_modes(node):\n",
    "        if isinstance(node, ast.Module): return 'exec'\n",
    "        if isinstance(node, ast.Expression): return 'eval'\n",
    "        if isinstance(node, ast.Interactive): return 'single'"
   ]
  },
  {
   "cell_type": "code",
   "execution_count": 6,
   "metadata": {},
   "outputs": [],
   "source": [
    "    class Interactive(Notebook):\n",
    "            \"\"\"The Execute loader reproduces outputs in the module._notebook attribute.\n",
    "\n",
    "            >>> nb_raw = Notebook(display=True, stdout=True).from_filename('execute.ipynb', 'importnb.notebooks')\n",
    "            >>> with Execute(display=True, stdout=True) as loader:\n",
    "            ...    nb = loader.from_filename('execute.ipynb', 'importnb.notebooks', show=True)\n",
    "\n",
    "            The loader includes the first markdown cell or leading block string as the docstring.\n",
    "\n",
    "            >>> assert nb.__doc__ and nb_raw.__doc__ \n",
    "            >>> assert nb.__doc__ == nb_raw.__doc__\n",
    "\n",
    "            Nothing should have been executed.\n",
    "\n",
    "            >>> assert any(cell.get('outputs', None) for cell in nb._notebook['cells'])        \n",
    "            \"\"\"\n",
    "            def _exec_cell(self, cell, node, module, index=0):\n",
    "                node_ct = 0\n",
    "                while node.body:\n",
    "                    expression = node.body.pop(0)\n",
    "                    if node_ct == index == 0 and cell['cell_type'] == 'markdown':\n",
    "                        expression = ast.Module([expression])\n",
    "                    else:\n",
    "                        if not node.body:\n",
    "                            expression = ast.Interactive([expression])\n",
    "                        else:\n",
    "                            if isinstance(expression, ast.Expr):\n",
    "                                expression = ast.Expression(expression.value)\n",
    "                            else:\n",
    "                                expression = ast.Module([expression])\n",
    "\n",
    "                    _call_with_frames_removed(exec, compile(\n",
    "                        expression, module.__name__, exec_modes(expression)\n",
    "                    ), module.__dict__, module.__dict__)\n",
    "\n",
    "                    node_ct += 1\n",
    "\n",
    "            @advanced_exec_module         \n",
    "            def exec_module(self, module, **globals):\n",
    "                loader_include_notebook(self, module)\n",
    "                for index, (cell, node) in enumerate(self._iter_cells(module._notebook)):\n",
    "                    if module._exception: break\n",
    "                    self._exec_cell(cell, node, module, index=index)"
   ]
  },
  {
   "cell_type": "code",
   "execution_count": 7,
   "metadata": {},
   "outputs": [],
   "source": [
    "    if __name__ == '__main__':\n",
    "        nb = Interactive(exceptions=BaseException).from_filename('execute.ipynb', 'importnb.notebooks')"
   ]
  },
  {
   "cell_type": "code",
   "execution_count": 8,
   "metadata": {},
   "outputs": [],
   "source": [
    "    class Execute(Interactive):\n",
    "        \"\"\"The Execute loader reproduces outputs in the module._notebook attribute.\n",
    "    \n",
    "        >>> nb_raw = Notebook(display=True, stdout=True).from_filename('execute.ipynb', 'importnb.notebooks')\n",
    "        >>> with Execute(display=True, stdout=True) as loader:\n",
    "        ...    nb = loader.from_filename('execute.ipynb', 'importnb.notebooks', show=True)\n",
    "        \n",
    "        The loader includes the first markdown cell or leading block string as the docstring.\n",
    "        \n",
    "        >>> assert nb.__doc__ and nb_raw.__doc__ \n",
    "        >>> assert nb.__doc__ == nb_raw.__doc__\n",
    "    \n",
    "        Nothing should have been executed.\n",
    "        \n",
    "        >>> assert any(cell.get('outputs', None) for cell in nb._notebook['cells'])        \n",
    "        \"\"\"\n",
    "        def _exec_cell(self, cell, node, module, index=0):\n",
    "            error = None\n",
    "            with capture_output() as out:\n",
    "                super()._exec_cell(cell, node, module, index)\n",
    "                if out.outputs: \n",
    "                    cell['outputs'] += [new_display(object) for object in out.outputs]\n",
    "                if out.stdout: \n",
    "                    cell['outputs'] += [new_stream(out.stdout)]\n",
    "                if error: \n",
    "                    cell['outputs'] += [error]\n",
    "                if out.stderr:  \n",
    "                    cell['outputs'] += [new_stream(out.stderr, 'stderr')]\n",
    "            out.show()"
   ]
  },
  {
   "cell_type": "code",
   "execution_count": 9,
   "metadata": {},
   "outputs": [],
   "source": [
    "    if __name__ == '__main__':\n",
    "        nb = Execute(display=False).from_filename('execute.ipynb', 'importnb.notebooks')"
   ]
  },
  {
   "cell_type": "markdown",
   "metadata": {},
   "source": [
    "# Developer"
   ]
  },
  {
   "cell_type": "code",
   "execution_count": 10,
   "metadata": {
    "scrolled": false
   },
   "outputs": [
    {
     "name": "stdout",
     "output_type": "stream",
     "text": [
      "Trying:\n",
      "    import importnb    \n",
      "Expecting nothing\n",
      "ok\n",
      "Trying:\n",
      "    from importnb import notebooks\n",
      "Expecting nothing\n",
      "ok\n",
      "Trying:\n",
      "    with Execute(stdout=True):\n",
      "         from importnb.notebooks import execute as nb\n",
      "Expecting nothing\n",
      "ok\n",
      "Trying:\n",
      "    assert nb._notebook\n",
      "Expecting nothing\n",
      "ok\n",
      "Trying:\n",
      "    from nbformat.v4 import new_notebook\n",
      "Expecting nothing\n",
      "ok\n",
      "Trying:\n",
      "    assert new_notebook(**nb._notebook), \"\"\"The notebook is not a valid nbformat\"\"\"\n",
      "Expecting nothing\n",
      "ok\n",
      "Trying:\n",
      "    nb_raw = Notebook(display=True, stdout=True).from_filename('execute.ipynb', 'importnb.notebooks')\n",
      "Expecting nothing\n",
      "ok\n",
      "Trying:\n",
      "    with Execute(display=True, stdout=True) as loader:\n",
      "       nb = loader.from_filename('execute.ipynb', 'importnb.notebooks', show=True)\n",
      "Expecting nothing\n",
      "ok\n",
      "Trying:\n",
      "    assert nb.__doc__ and nb_raw.__doc__ \n",
      "Expecting nothing\n",
      "ok\n",
      "Trying:\n",
      "    assert nb.__doc__ == nb_raw.__doc__\n",
      "Expecting nothing\n",
      "ok\n",
      "Trying:\n",
      "    assert any(cell.get('outputs', None) for cell in nb._notebook['cells'])        \n",
      "Expecting nothing\n",
      "ok\n",
      "Trying:\n",
      "    nb_raw = Notebook(display=True, stdout=True).from_filename('execute.ipynb', 'importnb.notebooks')\n",
      "Expecting nothing\n",
      "ok\n",
      "Trying:\n",
      "    with Execute(display=True, stdout=True) as loader:\n",
      "       nb = loader.from_filename('execute.ipynb', 'importnb.notebooks', show=True)\n",
      "Expecting nothing\n",
      "ok\n",
      "Trying:\n",
      "    assert nb.__doc__ and nb_raw.__doc__ \n",
      "Expecting nothing\n",
      "ok\n",
      "Trying:\n",
      "    assert nb.__doc__ == nb_raw.__doc__\n",
      "Expecting nothing\n",
      "ok\n",
      "Trying:\n",
      "    assert any(cell.get('outputs', None) for cell in nb._notebook['cells'])        \n",
      "Expecting nothing\n",
      "ok\n",
      "7 items had no tests:\n",
      "    execute.Execute._exec_cell\n",
      "    execute.Interactive._exec_cell\n",
      "    execute.exec_modes\n",
      "    execute.loader_include_notebook\n",
      "    execute.new_display\n",
      "    execute.new_error\n",
      "    execute.new_stream\n",
      "3 items passed all tests:\n",
      "   6 tests in execute\n",
      "   5 tests in execute.Execute\n",
      "   5 tests in execute.Interactive\n",
      "16 tests in 10 items.\n",
      "16 passed and 0 failed.\n",
      "Test passed.\n"
     ]
    }
   ],
   "source": [
    "    if __name__ == '__main__':\n",
    "        try:  from utils.export import export\n",
    "        except: from .utils.export import export\n",
    "        export('execute.ipynb', '../execute.py')\n",
    "        module = Execute().from_filename('execute.ipynb')\n",
    "        __import__('doctest').testmod(module, verbose=2)"
   ]
  },
  {
   "cell_type": "code",
   "execution_count": null,
   "metadata": {},
   "outputs": [],
   "source": []
  }
 ],
 "metadata": {
  "kernelspec": {
   "display_name": "p6",
   "language": "python",
   "name": "other-env"
  },
  "language_info": {
   "codemirror_mode": {
    "name": "ipython",
    "version": 3
   },
   "file_extension": ".py",
   "mimetype": "text/x-python",
   "name": "python",
   "nbconvert_exporter": "python",
   "pygments_lexer": "ipython3",
   "version": "3.6.3"
  },
  "toc": {
   "colors": {
    "hover_highlight": "#DAA520",
    "running_highlight": "#FF0000",
    "selected_highlight": "#FFD700"
   },
   "moveMenuLeft": true,
   "nav_menu": {
    "height": "29px",
    "width": "252px"
   },
   "navigate_menu": true,
   "number_sections": true,
   "sideBar": true,
   "threshold": 4,
   "toc_cell": false,
   "toc_section_display": "block",
   "toc_window_display": false,
   "widenNotebook": false
  },
  "varInspector": {
   "cols": {
    "lenName": 16,
    "lenType": 16,
    "lenVar": 40
   },
   "kernels_config": {
    "python": {
     "delete_cmd_postfix": "",
     "delete_cmd_prefix": "del ",
     "library": "var_list.py",
     "varRefreshCmd": "print(var_dic_list())"
    },
    "r": {
     "delete_cmd_postfix": ") ",
     "delete_cmd_prefix": "rm(",
     "library": "var_list.r",
     "varRefreshCmd": "cat(var_dic_list()) "
    }
   },
   "types_to_exclude": [
    "module",
    "function",
    "builtin_function_or_method",
    "instance",
    "_Feature"
   ],
   "window_display": false
  }
 },
 "nbformat": 4,
 "nbformat_minor": 2
}
