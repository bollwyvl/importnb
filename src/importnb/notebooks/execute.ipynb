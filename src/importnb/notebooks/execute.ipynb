{
 "cells": [
  {
   "cell_type": "markdown",
   "metadata": {},
   "source": [
    "# The `Execute` importer\n",
    "\n",
    "The execute importer maintains an attribute that includes the notebooks inputs and outputs.\n",
    "\n",
    "    >>> import importnb    \n",
    "    >>> from importnb import notebooks\n",
    "    >>> with Execute(stdout=True):\n",
    "    ...      from importnb.notebooks import execute as nb\n",
    "    \n",
    "An executed notebook contains a `__notebook__` attributes that is populated with cell outputs.\n",
    "\n",
    "    >>> assert nb._notebook\n",
    "    \n",
    "The `__notebook__` attribute complies with `nbformat`\n",
    "\n",
    "    >>> from nbformat.v4 import new_notebook\n",
    "    >>> assert new_notebook(**nb._notebook), \"\"\"The notebook is not a valid nbformat\"\"\"\n",
    "    "
   ]
  },
  {
   "cell_type": "code",
   "execution_count": 1,
   "metadata": {},
   "outputs": [],
   "source": [
    "    if globals().get('show', None):\n",
    "        print('I am tested.')"
   ]
  },
  {
   "cell_type": "code",
   "execution_count": 2,
   "metadata": {},
   "outputs": [
    {
     "ename": "ModuleNotFoundError",
     "evalue": "No module named 'capture'",
     "output_type": "error",
     "traceback": [
      "\u001b[0;31m---------------------------------------------------------------------------\u001b[0m",
      "\u001b[0;31mModuleNotFoundError\u001b[0m                       Traceback (most recent call last)",
      "\u001b[0;32m<ipython-input-2-356a55674414>\u001b[0m in \u001b[0;36m<module>\u001b[0;34m()\u001b[0m\n\u001b[1;32m      1\u001b[0m \u001b[0;32mtry\u001b[0m\u001b[0;34m:\u001b[0m\u001b[0;34m\u001b[0m\u001b[0m\n\u001b[0;32m----> 2\u001b[0;31m     \u001b[0;32mfrom\u001b[0m \u001b[0;34m.\u001b[0m\u001b[0mcapture\u001b[0m \u001b[0;32mimport\u001b[0m \u001b[0mcapture_output\u001b[0m\u001b[0;34m\u001b[0m\u001b[0m\n\u001b[0m\u001b[1;32m      3\u001b[0m     \u001b[0;32mfrom\u001b[0m \u001b[0;34m.\u001b[0m\u001b[0mloader\u001b[0m \u001b[0;32mimport\u001b[0m \u001b[0mNotebook\u001b[0m\u001b[0;34m,\u001b[0m \u001b[0madvanced_exec_module\u001b[0m\u001b[0;34m,\u001b[0m \u001b[0mmarkdown_to_source\u001b[0m\u001b[0;34m\u001b[0m\u001b[0m\n",
      "\u001b[0;31mModuleNotFoundError\u001b[0m: No module named '__main__.capture'; '__main__' is not a package",
      "\nDuring handling of the above exception, another exception occurred:\n",
      "\u001b[0;31mModuleNotFoundError\u001b[0m                       Traceback (most recent call last)",
      "\u001b[0;32m<ipython-input-2-356a55674414>\u001b[0m in \u001b[0;36m<module>\u001b[0;34m()\u001b[0m\n\u001b[1;32m      4\u001b[0m     \u001b[0;32mfrom\u001b[0m \u001b[0;34m.\u001b[0m\u001b[0mdecoder\u001b[0m \u001b[0;32mimport\u001b[0m \u001b[0mloads_ast\u001b[0m\u001b[0;34m,\u001b[0m \u001b[0midentity\u001b[0m\u001b[0;34m,\u001b[0m \u001b[0mloads\u001b[0m\u001b[0;34m,\u001b[0m \u001b[0mdedent\u001b[0m\u001b[0;34m,\u001b[0m \u001b[0mcell_to_ast\u001b[0m\u001b[0;34m\u001b[0m\u001b[0m\n\u001b[1;32m      5\u001b[0m \u001b[0;32mexcept\u001b[0m\u001b[0;34m:\u001b[0m\u001b[0;34m\u001b[0m\u001b[0m\n\u001b[0;32m----> 6\u001b[0;31m     \u001b[0;32mfrom\u001b[0m \u001b[0mcapture\u001b[0m \u001b[0;32mimport\u001b[0m \u001b[0mcapture_output\u001b[0m\u001b[0;34m\u001b[0m\u001b[0m\n\u001b[0m\u001b[1;32m      7\u001b[0m     \u001b[0;32mfrom\u001b[0m \u001b[0mloader\u001b[0m \u001b[0;32mimport\u001b[0m \u001b[0mNotebook\u001b[0m\u001b[0;34m,\u001b[0m \u001b[0madvanced_exec_module\u001b[0m\u001b[0;34m,\u001b[0m \u001b[0mmarkdown_to_source\u001b[0m\u001b[0;34m\u001b[0m\u001b[0m\n\u001b[1;32m      8\u001b[0m     \u001b[0;32mfrom\u001b[0m \u001b[0mdecoder\u001b[0m \u001b[0;32mimport\u001b[0m \u001b[0mloads_ast\u001b[0m\u001b[0;34m,\u001b[0m \u001b[0midentity\u001b[0m\u001b[0;34m,\u001b[0m \u001b[0mloads\u001b[0m\u001b[0;34m,\u001b[0m \u001b[0mdedent\u001b[0m\u001b[0;34m,\u001b[0m \u001b[0mcell_to_ast\u001b[0m\u001b[0;34m\u001b[0m\u001b[0m\n",
      "\u001b[0;31mModuleNotFoundError\u001b[0m: No module named 'capture'"
     ]
    }
   ],
   "source": [
    "    try:\n",
    "        from .capture import capture_output\n",
    "        from .loader import Notebook, advanced_exec_module, markdown_to_source\n",
    "        from .decoder import loads_ast, identity, loads, dedent, cell_to_ast\n",
    "    except:\n",
    "        from capture import capture_output\n",
    "        from loader import Notebook, advanced_exec_module, markdown_to_source\n",
    "        from decoder import loads_ast, identity, loads, dedent, cell_to_ast\n",
    "\n",
    "    import inspect, sys, ast\n",
    "    from functools import partialmethod, partial\n",
    "    from importlib import reload, _bootstrap\n",
    "    from importlib._bootstrap import _call_with_frames_removed, _new_module\n",
    "\n",
    "    import traceback    \n",
    "    from traceback import print_exc, format_exc, format_tb\n",
    "    from pathlib import Path\n",
    "        \n",
    "    from ast import NodeTransformer, parse, Assign, literal_eval, dump, fix_missing_locations, Str, Tuple, Ellipsis, Interactive\n",
    "    from collections import ChainMap        \n",
    "    \n",
    "    __all__ = 'Notebook', 'Partial', 'reload', 'Lazy'"
   ]
  },
  {
   "cell_type": "markdown",
   "metadata": {},
   "source": [
    "# Loaders that reproduce notebook outputs"
   ]
  },
  {
   "cell_type": "code",
   "execution_count": null,
   "metadata": {},
   "outputs": [],
   "source": [
    "    def loader_include_notebook(loader, module): module._notebook = loads(loader.get_data(loader.path).decode('utf-8'))"
   ]
  },
  {
   "cell_type": "code",
   "execution_count": null,
   "metadata": {},
   "outputs": [],
   "source": [
    "    class NotebookCells(Notebook):\n",
    "        \"\"\"The NotebookCells loader's contain a _notebook attributes containing a state of the notebook.\n",
    "        \n",
    "        >>> assert NotebookCells().from_filename('execute.ipynb', 'importnb.notebooks')._notebook\n",
    "        \"\"\"\n",
    "        @advanced_exec_module\n",
    "        def exec_module(self, module, **globals): \n",
    "            loader_include_notebook(self, module)\n",
    "            _call_with_frames_removed(exec, self.source_to_code(module._notebook), module.__dict__, module.__dict__)"
   ]
  },
  {
   "cell_type": "markdown",
   "metadata": {},
   "source": [
    "## Recreating IPython output objectss"
   ]
  },
  {
   "cell_type": "code",
   "execution_count": null,
   "metadata": {},
   "outputs": [],
   "source": [
    "    def new_stream(text, name='stdout'):\n",
    "        return {'name': name, 'output_type': 'stream', 'text': text}\n",
    "\n",
    "    def new_error(Exception):\n",
    "        return {'ename': type(Exception).__name__, \n",
    "                'output_type': 'error', \n",
    "                'evalue': str(Exception),\n",
    "                'traceback': format_tb(Exception.__traceback__)}\n",
    "\n",
    "    def new_display(object):\n",
    "        return {'data': object.data,\n",
    "                \"metadata\": {},\n",
    "                \"output_type\": \"display_data\"}"
   ]
  },
  {
   "cell_type": "markdown",
   "metadata": {},
   "source": [
    "# Reproduce notebooks with the `Execute` class."
   ]
  },
  {
   "cell_type": "code",
   "execution_count": null,
   "metadata": {},
   "outputs": [],
   "source": [
    "    class Execute(Notebook):\n",
    "        \"\"\"The Execute loader reproduces outputs in the module._notebook attribute.\n",
    "    \n",
    "        >>> nb_raw = Notebook(display=True, stdout=True).from_filename('execute.ipynb', 'importnb.notebooks')\n",
    "        >>> with Execute(display=True, stdout=True) as loader:\n",
    "        ...    nb = loader.from_filename('execute.ipynb', 'importnb.notebooks', show=True)\n",
    "        \n",
    "        The loader includes the first markdown cell or leading block string as the docstring.\n",
    "        \n",
    "        >>> assert nb.__doc__ and nb_raw.__doc__ \n",
    "        >>> assert nb.__doc__ == nb_raw.__doc__\n",
    "    \n",
    "        Nothing should have been executed.\n",
    "        \n",
    "        >>> assert any(cell.get('outputs', None) for cell in nb._notebook['cells'])        \n",
    "        \"\"\"\n",
    "        @advanced_exec_module         \n",
    "        def exec_module(self, module, **globals):\n",
    "            # Remove the outputs\n",
    "            loader_include_notebook(self, module)\n",
    "            for cell in module._notebook['cells']: \n",
    "                if 'outputs' in cell: cell['outputs'] = []\n",
    "            for i, cell in enumerate(module._notebook['cells']):\n",
    "                error = None\n",
    "                with capture_output() as out:\n",
    "                    try: \n",
    "                        if i == 0: cell = markdown_to_source(cell)\n",
    "                        if cell['cell_type'] == 'code':\n",
    "                            \n",
    "                            _call_with_frames_removed(exec, self.source_to_code(cell), module.__dict__, module.__dict__)\n",
    "                    except BaseException as Exception: \n",
    "                        error = new_error(Exception)\n",
    "                        try:\n",
    "                            module.__exception__ = Exception\n",
    "                            raise Exception\n",
    "                        except self.exceptions: ...\n",
    "                        break\n",
    "                    finally:\n",
    "                        if out.outputs: cell['outputs'] += [new_display(object) for object in out.outputs]\n",
    "                        if out.stdout: cell['outputs'] += [new_stream(out.stdout)]\n",
    "                        if error: cell['outputs'] += [error]\n",
    "                        if out.stderr:  cell['outputs'] += [new_stream(out.stderr, 'stderr')]\n",
    "                out.show()"
   ]
  },
  {
   "cell_type": "code",
   "execution_count": null,
   "metadata": {},
   "outputs": [],
   "source": [
    "    if __name__ == '__main__':\n",
    "        nb = Execute(display=True, stdout=True).from_filename('execute.ipynb', 'importnb.notebooks')"
   ]
  },
  {
   "cell_type": "markdown",
   "metadata": {},
   "source": [
    "# Parameterizing notebooks"
   ]
  },
  {
   "cell_type": "code",
   "execution_count": null,
   "metadata": {},
   "outputs": [],
   "source": [
    "    class ParameterizeNode(NodeTransformer):\n",
    "        \"\"\"Discover any literal ast expression and create parameters from them. \n",
    "        \n",
    "        >>> assert len(ParameterizeNode().visit(ast.parse('''\n",
    "        ... foo = 42\n",
    "        ... bar = foo''')).body) ==1\n",
    "        \"\"\"\n",
    "        visit_Module = NodeTransformer.generic_visit\n",
    "        \n",
    "        def visit_Assign(FreeStatement, node):\n",
    "            if len(node.targets):\n",
    "                try:\n",
    "                    if not getattr(node.targets[0], 'id', '_').startswith('_'):\n",
    "                        literal_eval(node.value)\n",
    "                        return node\n",
    "                except: assert True, \"\"\"The target can not will not literally evaluate.\"\"\"\n",
    "            return None\n",
    "                        \n",
    "        def generic_visit(self, node): ..."
   ]
  },
  {
   "cell_type": "code",
   "execution_count": null,
   "metadata": {},
   "outputs": [],
   "source": [
    "    def vars_to_sig(**vars):\n",
    "        \"\"\"Create a signature for a dictionary of names.\"\"\"\n",
    "        from inspect import Parameter, Signature\n",
    "        return Signature([Parameter(str, Parameter.KEYWORD_ONLY, default = vars[str]) for str in vars])"
   ]
  },
  {
   "cell_type": "code",
   "execution_count": null,
   "metadata": {},
   "outputs": [],
   "source": [
    "    class Parameterize(Execute, ParameterizeNode):\n",
    "        \"\"\"Discover any literal ast expression and create parameters from them. \n",
    "        \n",
    "        >>> nb = Parameterize().from_filename('execute.ipynb', 'importnb.notebooks')\n",
    "        >>> assert 'a_variable_to_parameterize' in nb.__signature__.parameters\n",
    "        \n",
    "        Parametize is a NodeTransformer that import any nodes return by Parameterize Node.\n",
    "        \n",
    "        >>> assert len(Parameterize().visit(ast.parse('''\n",
    "        ... foo = 42\n",
    "        ... bar = foo''')).body) ==2\n",
    "        \"\"\"        \n",
    "        def visit_Assign(self, node):\n",
    "            if super().visit_Assign(node): return ast.Expr(Ellipsis())\n",
    "            return node \n",
    "            \n",
    "        def generic_visit(self, node): return node\n",
    "        \n",
    "        def create_module(self, spec):\n",
    "            module = super().create_module(spec)\n",
    "            \n",
    "            # Import the notebook when parameterize is imported\n",
    "            loader_include_notebook(self, module)\n",
    "            \n",
    "            nodes = self.nb_to_ast(module._notebook)\n",
    "            \n",
    "            # Extra effort to supply a docstring\n",
    "            doc = None\n",
    "            if isinstance(nodes, ast.Module) and nodes.body: \n",
    "                node = nodes.body[0]\n",
    "                if isinstance(node, ast.Expr) and isinstance(node.value, ast.Str):\n",
    "                    doc = node\n",
    "                    \n",
    "            # Discover the parameterizable nodes\n",
    "            params = ParameterizeNode().visit(nodes)\n",
    "            \n",
    "            # Include the string in the compilation\n",
    "            doc and params.body.insert(0, doc)\n",
    "            \n",
    "            # Supply the literal parameter values as module globals.\n",
    "            exec(compile(params, '<parameterize>', 'exec'), module.__dict__, module.__dict__)\n",
    "            return module\n",
    "        \n",
    "        def from_filename(self, filename, path=None, **globals):\n",
    "            module = super().from_filename(filename, path, exec=False)            \n",
    "            \n",
    "            def recall(**kwargs):\n",
    "                nonlocal module, globals\n",
    "                module.__loader__.exec_module(module, **ChainMap(kwargs, globals))\n",
    "                return module\n",
    "            \n",
    "            recall.__signature__ = vars_to_sig(**{k: v for k, v in module.__dict__.items() if not k.startswith('_')})\n",
    "            recall.__doc__ = module.__doc__\n",
    "            return recall"
   ]
  },
  {
   "cell_type": "code",
   "execution_count": null,
   "metadata": {},
   "outputs": [],
   "source": [
    "    a_variable_to_parameterize = 42"
   ]
  },
  {
   "cell_type": "markdown",
   "metadata": {},
   "source": [
    "# Developer"
   ]
  },
  {
   "cell_type": "code",
   "execution_count": null,
   "metadata": {
    "scrolled": false
   },
   "outputs": [],
   "source": [
    "    if __name__ == '__main__':\n",
    "        try:  from utils.export import export\n",
    "        except: from .utils.export import export\n",
    "        export('execute.ipynb', '../execute.py')\n",
    "        module = Execute().from_filename('execute.ipynb')\n",
    "        __import__('doctest').testmod(module, verbose=2)"
   ]
  },
  {
   "cell_type": "code",
   "execution_count": null,
   "metadata": {},
   "outputs": [],
   "source": []
  }
 ],
 "metadata": {
  "kernelspec": {
   "display_name": "p6",
   "language": "python",
   "name": "other-env"
  },
  "language_info": {
   "codemirror_mode": {
    "name": "ipython",
    "version": 3
   },
   "file_extension": ".py",
   "mimetype": "text/x-python",
   "name": "python",
   "nbconvert_exporter": "python",
   "pygments_lexer": "ipython3",
   "version": "3.6.3"
  },
  "toc": {
   "colors": {
    "hover_highlight": "#DAA520",
    "running_highlight": "#FF0000",
    "selected_highlight": "#FFD700"
   },
   "moveMenuLeft": true,
   "nav_menu": {
    "height": "29px",
    "width": "252px"
   },
   "navigate_menu": true,
   "number_sections": true,
   "sideBar": true,
   "threshold": 4,
   "toc_cell": false,
   "toc_section_display": "block",
   "toc_window_display": false,
   "widenNotebook": false
  },
  "varInspector": {
   "cols": {
    "lenName": 16,
    "lenType": 16,
    "lenVar": 40
   },
   "kernels_config": {
    "python": {
     "delete_cmd_postfix": "",
     "delete_cmd_prefix": "del ",
     "library": "var_list.py",
     "varRefreshCmd": "print(var_dic_list())"
    },
    "r": {
     "delete_cmd_postfix": ") ",
     "delete_cmd_prefix": "rm(",
     "library": "var_list.r",
     "varRefreshCmd": "cat(var_dic_list()) "
    }
   },
   "types_to_exclude": [
    "module",
    "function",
    "builtin_function_or_method",
    "instance",
    "_Feature"
   ],
   "window_display": false
  }
 },
 "nbformat": 4,
 "nbformat_minor": 2
}
