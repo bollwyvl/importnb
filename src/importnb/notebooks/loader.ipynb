{
 "cells": [
  {
   "cell_type": "markdown",
   "metadata": {},
   "source": [
    "# The [Import Loader](https://docs.python.org/3/reference/import.html#loaders)\n",
    "\n",
    "`importnb` uses context manager to import Notebooks as Python packages and modules.  `importnb.Notebook` simplest context manager.  It will find and load any notebook as a module.\n",
    "\n",
    "    >>> m = Notebook().from_filename('loader.ipynb', 'importnb.notebooks')\n",
    "    >>> assert m and m.Notebook\n",
    " \n",
    "     \n",
    "### `importnb.Partial` \n",
    "\n",
    "    >>> with Partial(): \n",
    "    ...     from importnb.notebooks import loader\n",
    "    >>> assert loader.__exception__ is None\n",
    "    \n",
    "## There is a [lazy importer]()\n",
    "\n",
    "The Lazy importer will delay the module execution until it is used the first time.  It is a useful approach for delaying visualization or data loading.\n",
    "\n",
    "    >>> with Lazy(): \n",
    "    ...     from importnb.notebooks import loader\n",
    "    \n",
    "## Loading from resources\n",
    "\n",
    "Not all notebooks may be loaded as modules throught the standard python import finder.  `from_resource`, or the uncomfortably named `Notebook.from_filename` attributes, support [`importlib_resources`]() style imports and raw file imports.\n",
    "\n",
    "    >>> from importnb.loader import from_resource\n",
    "    >>> assert from_resource(Notebook(), 'loader.ipynb', 'importnb.notebooks')\n",
    "    >>> assert Notebook().from_filename('loader.ipynb', 'importnb.notebooks')\n",
    "    >>> assert Notebook().from_filename(m.__file__)\n",
    "    \n",
    "\n",
    "## Capturing stdin, stdout, and display objects\n",
    "\n",
    "    >>> with Notebook(stdout=True, stderr=True, display=True, globals=dict(show=True)):\n",
    "    ...     from importnb.notebooks import loader\n",
    "    >>> assert loader.__output__\n",
    "    \n",
    "    # loader.__output__.stdout"
   ]
  },
  {
   "cell_type": "code",
   "execution_count": 1,
   "metadata": {},
   "outputs": [],
   "source": [
    "    if 'show' in globals(): print(\"Catch me if you can\")"
   ]
  },
  {
   "cell_type": "code",
   "execution_count": 2,
   "metadata": {},
   "outputs": [],
   "source": [
    "    try:\n",
    "        from .capture import capture_output\n",
    "        from .decoder import identity, loads, dedent, cell_to_ast\n",
    "    except:\n",
    "        from capture import capture_output\n",
    "        from decoder import identity, loads, dedent, cell_to_ast\n",
    "\n",
    "    import inspect, sys, ast\n",
    "    from copy import copy\n",
    "    from importlib.machinery import SourceFileLoader\n",
    "    from importlib.util import spec_from_loader\n",
    "\n",
    "    from importlib._bootstrap import _call_with_frames_removed, _new_module\n",
    "    try:  \n",
    "        from importlib._bootstrap import _init_module_attrs, _call_with_frames_removed\n",
    "        from importlib._bootstrap_external import FileFinder\n",
    "        from importlib.util import module_from_spec\n",
    "    except:\n",
    "        #python 3.4\n",
    "        from importlib.machinery import FileFinder\n",
    "        from importlib._bootstrap import _SpecMethods\n",
    "\n",
    "        def module_from_spec(spec): \n",
    "            return _SpecMethods(spec).create()\n",
    "        \n",
    "        def _init_module_attrs(spec, module):\n",
    "            return _SpecMethods(spec).init_module_attrs(module)\n",
    "    \n",
    "    from io import StringIO\n",
    "    from functools import partialmethod, partial\n",
    "    from importlib import reload\n",
    "    from traceback import print_exc, format_exc\n",
    "    from warnings import warn\n",
    "    from contextlib import contextmanager, ExitStack\n",
    "    from pathlib import Path\n",
    "    try:\n",
    "        from importlib.resources import path\n",
    "    except:\n",
    "        from importlib_resources import path\n",
    "    \n",
    "    __all__ = 'Notebook', 'Partial', 'reload', 'Lazy'"
   ]
  },
  {
   "cell_type": "markdown",
   "metadata": {},
   "source": [
    "## `sys.path_hook` modifiers"
   ]
  },
  {
   "cell_type": "code",
   "execution_count": 3,
   "metadata": {},
   "outputs": [],
   "source": [
    "    @contextmanager\n",
    "    def modify_file_finder_details():\n",
    "        \"\"\"yield the FileFinder in the sys.path_hooks that loads Python files and assure\n",
    "        the import cache is cleared afterwards.  \n",
    "        \n",
    "        Everything goes to shit if the import cache is not cleared.\"\"\"\n",
    "        \n",
    "        for id, hook in enumerate(sys.path_hooks):\n",
    "            try:\n",
    "                closure = inspect.getclosurevars(hook).nonlocals\n",
    "            except TypeError: continue\n",
    "            if issubclass(closure['cls'], FileFinder):\n",
    "                sys.path_hooks.pop(id)\n",
    "                details = list(closure['loader_details'])\n",
    "                yield details\n",
    "                break\n",
    "        sys.path_hooks.insert(id, FileFinder.path_hook(*details))\n",
    "        sys.path_importer_cache.clear()"
   ]
  },
  {
   "cell_type": "markdown",
   "metadata": {},
   "source": [
    "Update the file_finder details with functions to append and remove the [loader details](https://docs.python.org/3.7/library/importlib.html#importlib.machinery.FileFinder)."
   ]
  },
  {
   "cell_type": "code",
   "execution_count": 4,
   "metadata": {},
   "outputs": [],
   "source": [
    "    def add_path_hooks(loader: SourceFileLoader, extensions, *, position=0):\n",
    "        \"\"\"Update the FileFinder loader in sys.path_hooks to accomodate a {loader} with the {extensions}\"\"\"\n",
    "        with modify_file_finder_details() as details:\n",
    "            details.insert(position, (loader, extensions))\n",
    "\n",
    "    def remove_one_path_hook(loader):\n",
    "        loader = lazy_loader_cls(loader)\n",
    "        with modify_file_finder_details() as details:\n",
    "            _details = list(details)\n",
    "            for ct, (cls, ext) in enumerate(_details):\n",
    "                cls = lazy_loader_cls(cls)\n",
    "                if cls == loader:\n",
    "                    details.pop(ct)\n",
    "                    break"
   ]
  },
  {
   "cell_type": "code",
   "execution_count": 5,
   "metadata": {},
   "outputs": [],
   "source": [
    "    def lazy_loader_cls(loader):\n",
    "        \"\"\"Extract the loader contents of a lazy loader in the import path.\"\"\"\n",
    "        try:\n",
    "            return inspect.getclosurevars(loader).nonlocals.get('cls', loader)\n",
    "        except:\n",
    "            return loader"
   ]
  },
  {
   "cell_type": "markdown",
   "metadata": {},
   "source": [
    "## Loader Context Manager\n",
    "\n",
    "`importnb` uses a context manager to assure that the traditional import system behaviors as expected.  If the loader is permenantly available then it may create some unexpected import behaviors."
   ]
  },
  {
   "cell_type": "code",
   "execution_count": 6,
   "metadata": {},
   "outputs": [],
   "source": [
    "    class ImportNbException(BaseException):\n",
    "        \"\"\"ImportNbException allows all exceptions to be raised, a null except statement always passes.\"\"\""
   ]
  },
  {
   "cell_type": "code",
   "execution_count": 7,
   "metadata": {},
   "outputs": [],
   "source": [
    "    class PathHooksContext:\n",
    "        def __enter__(self, position=0):  \n",
    "            add_path_hooks(self.prepare(self), self.EXTENSION_SUFFIXES, position=position)\n",
    "            return self\n",
    "        \n",
    "        def __exit__(self, *excepts): remove_one_path_hook(self)\n",
    "\n",
    "        def prepare(self, loader):\n",
    "            if self._lazy: \n",
    "                try:\n",
    "                    from importlib.util import LazyLoader\n",
    "                    if self._lazy: \n",
    "                        loader = LazyLoader.factory(loader)\n",
    "                except:\n",
    "                    ImportWarning(\"\"\"LazyLoading is only available in > Python 3.5\"\"\")\n",
    "            return loader\n"
   ]
  },
  {
   "cell_type": "code",
   "execution_count": 8,
   "metadata": {},
   "outputs": [],
   "source": [
    "    def from_resource(loader, file=None, resource=None, exec=True, **globals):\n",
    "        \"\"\"Load a python module or notebook from a file location.\n",
    "\n",
    "        from_filename is not reloadable because it is not in the sys.modules.\n",
    "\n",
    "        This still needs some work for packages.\n",
    "        \n",
    "        >>> assert from_resource(Notebook(), 'loader.ipynb', 'importnb.notebooks')\n",
    "        \"\"\"\n",
    "        with ExitStack() as stack:\n",
    "            if resource is not None:\n",
    "                file = Path(stack.enter_context(path(resource, file)))\n",
    "            else:\n",
    "                file = Path(file or loader.path)            \n",
    "            name = (getattr(loader, 'name', False) == '__main__' and '__main__') or file.stem\n",
    "            if file.suffixes[-1] == '.ipynb':  \n",
    "                loader = loader(name, file)\n",
    "            else:  \n",
    "                loader = SourceFileLoader(name, str(file))\n",
    "\n",
    "            lazy = getattr(loader, '_lazy', False)\n",
    "            if lazy: \n",
    "                try:\n",
    "                    from importlib.util import LazyLoader\n",
    "                    loader = LazyLoader(loader)\n",
    "                except:\n",
    "                    ImportWarning(\"\"\"LazyLoading is only available in > Python 3.5\"\"\")\n",
    "\n",
    "            module = module_from_spec(spec_from_loader(name, loader))\n",
    "            if exec:\n",
    "                stack.enter_context(modify_sys_path(file))\n",
    "                module.__loader__.exec_module(module, **globals)\n",
    "        return module"
   ]
  },
  {
   "cell_type": "code",
   "execution_count": 9,
   "metadata": {},
   "outputs": [],
   "source": [
    "    @contextmanager\n",
    "    def modify_sys_path(file):\n",
    "        \"\"\"This is only invoked when using from_resource.\"\"\"\n",
    "        path = str(Path(file).parent)\n",
    "        if path not in map(str, map(Path, sys.path)):\n",
    "            yield sys.path.insert(0, path)\n",
    "            sys.path = [object for object in sys.path if str(Path(object)) != path]\n",
    "        else: yield"
   ]
  },
  {
   "cell_type": "code",
   "execution_count": 10,
   "metadata": {},
   "outputs": [],
   "source": [
    "    class Notebook(SourceFileLoader, PathHooksContext, capture_output, ast.NodeTransformer):\n",
    "        \"\"\"A SourceFileLoader for notebooks that provides line number debugginer in the JSON source.\"\"\"\n",
    "        EXTENSION_SUFFIXES = '.ipynb',\n",
    "        \n",
    "        _compile = staticmethod(compile)\n",
    "        _loads = staticmethod(loads)\n",
    "        format = _transform = staticmethod(dedent)\n",
    "                \n",
    "        __slots__ = 'stdout', 'stderr', 'display', '_lazy', '_exceptions', 'globals'\n",
    "        \n",
    "        def __init__(\n",
    "            self, fullname=None, path=None, *, \n",
    "            stdout=False, stderr=False, display=False,\n",
    "            lazy=False, exceptions=ImportNbException, globals=None\n",
    "        ): \n",
    "            SourceFileLoader.__init__(self, fullname, path)\n",
    "            capture_output.__init__(self, stdout=stdout, stderr=stderr, display=display)\n",
    "            self._lazy = lazy\n",
    "            self._exceptions = exceptions\n",
    "            self.globals = {} if globals is None else globals\n",
    "        \n",
    "        def __call__(self, fullname=None, path=None): \n",
    "            self= copy(self)\n",
    "            return SourceFileLoader.__init__(self, str(fullname), str(path)) or self\n",
    "        \n",
    "        def visit(self, node): \n",
    "            node = super().visit(node)\n",
    "            return ast.fix_missing_locations(super().visit(node))\n",
    "        \n",
    "        def create_module(self, spec):\n",
    "            module = _new_module(spec.name)\n",
    "            _init_module_attrs(spec, module)\n",
    "            module.__exception__ = None\n",
    "            module.__dict__.update(self.globals)\n",
    "            return module\n",
    "                                                \n",
    "        def exec_module(self, module, **globals):\n",
    "            \"\"\"All exceptions specific in the context.\n",
    "            \"\"\"\n",
    "            module.__dict__.update(globals)\n",
    "            with capture_output(stdout=self.stdout, stderr=self.stderr, display=self.display) as out:\n",
    "                module.__output__ = out\n",
    "                try: \n",
    "                    super().exec_module(module)\n",
    "                except self._exceptions as e:\n",
    "                    \"\"\"Display a message if an error is escaped.\"\"\"\n",
    "                    module.__exception__ = e\n",
    "                    warn('.'.join([\n",
    "                        \"\"\"{name} was partially imported with a {error}\"\"\".format(\n",
    "                            error = type(e), name=module.__name__\n",
    "                        ), \"=\"*10, format_exc()]))\n",
    "                        \n",
    "        def _data_to_ast(self, data):\n",
    "            if isinstance(data, bytes):\n",
    "                data = self._loads(data.decode('utf-8'))\n",
    "            return ast.Module(body=sum((\n",
    "                cell_to_ast(object, transform=self.format).body \n",
    "                for object in data['cells']), []))\n",
    "        \n",
    "        def source_to_code(self, data, path):\n",
    "            return self._compile(\n",
    "                self.visit(self._data_to_ast(data)), path or '<notebook-compiled>', 'exec')\n",
    "        \n",
    "        from_filename = from_resource"
   ]
  },
  {
   "cell_type": "code",
   "execution_count": 11,
   "metadata": {},
   "outputs": [],
   "source": [
    "    if __name__ == '__main__':\n",
    "        m = Notebook().from_filename('loader.ipynb')"
   ]
  },
  {
   "cell_type": "markdown",
   "metadata": {},
   "source": [
    "### Partial Loader"
   ]
  },
  {
   "cell_type": "code",
   "execution_count": 12,
   "metadata": {},
   "outputs": [],
   "source": [
    "    class Partial(Notebook): \n",
    "        \"\"\"A partial import tool for notebooks.\n",
    "        \n",
    "        Sometimes notebooks don't work, but there may be useful code!\n",
    "        \n",
    "        with Partial():\n",
    "            import Untitled as nb\n",
    "            assert nb.__exception__\n",
    "        \n",
    "        if isinstance(nb.__exception__, AssertionError):\n",
    "            print(\"There was a False assertion.\")\n",
    "                \n",
    "        Partial is useful in logging specific debugging approaches to the exception.\n",
    "        \"\"\"\n",
    "        __init__ = partialmethod(Notebook.__init__, exceptions=BaseException)"
   ]
  },
  {
   "cell_type": "markdown",
   "metadata": {},
   "source": [
    "### Lazy Loader\n",
    "\n",
    "The lazy loader is helpful for time consuming operations.  The module is not evaluated until it is used the first time after loading."
   ]
  },
  {
   "cell_type": "code",
   "execution_count": 13,
   "metadata": {},
   "outputs": [],
   "source": [
    "    class Lazy(Notebook): \n",
    "        \"\"\"A lazy importer for notebooks.  For long operations and a lot of data, the lazy importer delays imports until \n",
    "        an attribute is accessed the first time.\n",
    "        \n",
    "        with Lazy():\n",
    "            import Untitled as nb\n",
    "        \"\"\"\n",
    "        __init__ = partialmethod(Notebook.__init__, lazy=True)"
   ]
  },
  {
   "cell_type": "markdown",
   "metadata": {},
   "source": [
    "# IPython Extensions"
   ]
  },
  {
   "cell_type": "code",
   "execution_count": 14,
   "metadata": {},
   "outputs": [],
   "source": [
    "    def load_ipython_extension(ip=None): \n",
    "        add_path_hooks(Notebook, Notebook.EXTENSION_SUFFIXES)\n",
    "    def unload_ipython_extension(ip=None): \n",
    "        remove_one_path_hook(Notebook)"
   ]
  },
  {
   "cell_type": "code",
   "execution_count": 15,
   "metadata": {},
   "outputs": [],
   "source": [
    "    def main(*files):\n",
    "        with ExitStack() as stack:\n",
    "            loader = stack.enter_context(Notebook('__main__'))\n",
    "            if not files:\n",
    "                files = sys.argv[1:]\n",
    "            for file in files:\n",
    "                loader.from_filename(file)"
   ]
  },
  {
   "cell_type": "markdown",
   "metadata": {},
   "source": [
    "# Developer"
   ]
  },
  {
   "cell_type": "code",
   "execution_count": 16,
   "metadata": {},
   "outputs": [
    {
     "name": "stdout",
     "output_type": "stream",
     "text": [
      "Trying:\n",
      "    m = Notebook().from_filename('loader.ipynb', 'importnb.notebooks')\n",
      "Expecting nothing\n",
      "ok\n",
      "Trying:\n",
      "    assert m and m.Notebook\n",
      "Expecting nothing\n",
      "ok\n",
      "Trying:\n",
      "    with Partial(): \n",
      "        from importnb.notebooks import loader\n",
      "Expecting nothing\n",
      "ok\n",
      "Trying:\n",
      "    assert loader.__exception__ is None\n",
      "Expecting nothing\n",
      "ok\n",
      "Trying:\n",
      "    with Lazy(): \n",
      "        from importnb.notebooks import loader\n",
      "Expecting nothing\n",
      "ok\n",
      "Trying:\n",
      "    from importnb.loader import from_resource\n",
      "Expecting nothing\n",
      "ok\n",
      "Trying:\n",
      "    assert from_resource(Notebook(), 'loader.ipynb', 'importnb.notebooks')\n",
      "Expecting nothing\n",
      "ok\n",
      "Trying:\n",
      "    assert Notebook().from_filename('loader.ipynb', 'importnb.notebooks')\n",
      "Expecting nothing\n",
      "ok\n",
      "Trying:\n",
      "    assert Notebook().from_filename(m.__file__)\n",
      "Expecting nothing\n",
      "ok\n",
      "Trying:\n",
      "    with Notebook(stdout=True, stderr=True, display=True, globals=dict(show=True)):\n",
      "        from importnb.notebooks import loader\n",
      "Expecting nothing\n",
      "ok\n",
      "Trying:\n",
      "    assert loader.__output__\n",
      "Expecting nothing\n",
      "ok\n",
      "Trying:\n",
      "    assert from_resource(Notebook(), 'loader.ipynb', 'importnb.notebooks')\n",
      "Expecting nothing\n",
      "ok\n",
      "21 items had no tests:\n",
      "    loader.ImportNbException\n",
      "    loader.Lazy\n",
      "    loader.Notebook\n",
      "    loader.Notebook.__call__\n",
      "    loader.Notebook.__init__\n",
      "    loader.Notebook._data_to_ast\n",
      "    loader.Notebook.create_module\n",
      "    loader.Notebook.exec_module\n",
      "    loader.Notebook.source_to_code\n",
      "    loader.Notebook.visit\n",
      "    loader.Partial\n",
      "    loader.PathHooksContext\n",
      "    loader.PathHooksContext.__enter__\n",
      "    loader.PathHooksContext.__exit__\n",
      "    loader.PathHooksContext.prepare\n",
      "    loader.add_path_hooks\n",
      "    loader.lazy_loader_cls\n",
      "    loader.load_ipython_extension\n",
      "    loader.main\n",
      "    loader.remove_one_path_hook\n",
      "    loader.unload_ipython_extension\n",
      "2 items passed all tests:\n",
      "  11 tests in loader\n",
      "   1 tests in loader.from_resource\n",
      "12 tests in 23 items.\n",
      "12 passed and 0 failed.\n",
      "Test passed.\n"
     ]
    }
   ],
   "source": [
    "    if __name__ ==  '__main__':\n",
    "        try:  from utils.export import export\n",
    "        except: from .utils.export import export\n",
    "        export('loader.ipynb', '../loader.py')\n",
    "        m = Notebook().from_filename('loader.ipynb')\n",
    "        __import__('doctest').testmod(m, verbose=2)"
   ]
  },
  {
   "cell_type": "markdown",
   "metadata": {},
   "source": [
    "    if __name__ ==  '__main__':\n",
    "        __import__('doctest').testmod(Notebook().from_filename('loader.ipynb'), verbose=2)"
   ]
  },
  {
   "cell_type": "code",
   "execution_count": null,
   "metadata": {},
   "outputs": [],
   "source": []
  }
 ],
 "metadata": {
  "kernelspec": {
   "display_name": "p6",
   "language": "python",
   "name": "other-env"
  },
  "language_info": {
   "codemirror_mode": {
    "name": "ipython",
    "version": 3
   },
   "file_extension": ".py",
   "mimetype": "text/x-python",
   "name": "python",
   "nbconvert_exporter": "python",
   "pygments_lexer": "ipython3",
   "version": "3.6.3"
  },
  "toc": {
   "colors": {
    "hover_highlight": "#DAA520",
    "running_highlight": "#FF0000",
    "selected_highlight": "#FFD700"
   },
   "moveMenuLeft": true,
   "nav_menu": {
    "height": "29px",
    "width": "252px"
   },
   "navigate_menu": true,
   "number_sections": true,
   "sideBar": true,
   "threshold": 4,
   "toc_cell": false,
   "toc_section_display": "block",
   "toc_window_display": false,
   "widenNotebook": false
  },
  "varInspector": {
   "cols": {
    "lenName": 16,
    "lenType": 16,
    "lenVar": 40
   },
   "kernels_config": {
    "python": {
     "delete_cmd_postfix": "",
     "delete_cmd_prefix": "del ",
     "library": "var_list.py",
     "varRefreshCmd": "print(var_dic_list())"
    },
    "r": {
     "delete_cmd_postfix": ") ",
     "delete_cmd_prefix": "rm(",
     "library": "var_list.r",
     "varRefreshCmd": "cat(var_dic_list()) "
    }
   },
   "types_to_exclude": [
    "module",
    "function",
    "builtin_function_or_method",
    "instance",
    "_Feature"
   ],
   "window_display": false
  }
 },
 "nbformat": 4,
 "nbformat_minor": 2
}
