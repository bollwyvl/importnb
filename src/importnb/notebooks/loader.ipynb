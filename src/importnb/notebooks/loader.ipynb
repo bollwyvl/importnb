{
 "cells": [
  {
   "cell_type": "markdown",
   "metadata": {},
   "source": [
    "# The [Import Loader](https://docs.python.org/3/reference/import.html#loaders)\n",
    "\n",
    "`importnb` uses context manager to import Notebooks as Python packages and modules.  `importnb.Notebook` simplest context manager.  It will find and load any notebook as a module.\n",
    "\n",
    "    >>> m = Notebook().from_filename('loader.ipynb', 'importnb.notebooks')\n",
    "    >>> assert m and m.Notebook\n",
    " \n",
    "     \n",
    "### `importnb.Partial` \n",
    "\n",
    "    >>> with Notebook(exceptions=BaseException): \n",
    "    ...     from importnb.notebooks import loader\n",
    "    >>> assert loader.__exception__ is None\n",
    "    \n",
    "## There is a [lazy importer]()\n",
    "\n",
    "The Lazy importer will delay the module execution until it is used the first time.  It is a useful approach for delaying visualization or data loading.\n",
    "\n",
    "    >>> with Notebook(lazy=True): \n",
    "    ...     from importnb.notebooks import loader\n",
    "    \n",
    "## Loading from resources\n",
    "\n",
    "Not all notebooks may be loaded as modules throught the standard python import finder.  `from_resource`, or the uncomfortably named `Notebook.from_filename` attributes, support [`importlib_resources`]() style imports and raw file imports.\n",
    "\n",
    "    >>> from importnb.loader import from_resource\n",
    "    >>> assert from_resource(Notebook(), 'loader.ipynb', 'importnb.notebooks')\n",
    "    >>> assert Notebook().from_filename('loader.ipynb', 'importnb.notebooks')\n",
    "    >>> assert Notebook().from_filename(m.__file__)\n",
    "    \n",
    "\n",
    "## Capturing stdin, stdout, and display objects\n",
    "\n",
    "    >>> with Notebook(stdout=True, stderr=True, display=True, globals=dict(show=True)):\n",
    "    ...     from importnb.notebooks import loader\n",
    "    >>> assert loader._capture\n",
    "    \n",
    "    # loader.__output__.stdout"
   ]
  },
  {
   "cell_type": "code",
   "execution_count": null,
   "metadata": {},
   "outputs": [],
   "source": [
    "    if 'show' in globals(): print(\"Catch me if you can\")"
   ]
  },
  {
   "cell_type": "code",
   "execution_count": 2,
   "metadata": {},
   "outputs": [],
   "source": [
    "    try:\n",
    "        from .capture import capture_output, CapturedIO\n",
    "        from .decoder import identity, loads, dedent\n",
    "        from .path_hooks import PathHooksContext, modify_sys_path, add_path_hooks, remove_one_path_hook\n",
    "    except:\n",
    "        from capture import capture_output, CapturedIO\n",
    "        from decoder import identity, loads, dedent\n",
    "        from path_hooks import PathHooksContext, modify_sys_path, add_path_hooks, remove_one_path_hook\n",
    "\n",
    "    import inspect, sys, ast\n",
    "    from copy import copy\n",
    "    from importlib.machinery import SourceFileLoader\n",
    "    from importlib.util import spec_from_loader\n",
    "\n",
    "    from importlib._bootstrap import _call_with_frames_removed, _new_module\n",
    "    try:  \n",
    "        from importlib._bootstrap import _init_module_attrs, _call_with_frames_removed\n",
    "        from importlib._bootstrap_external import FileFinder\n",
    "        from importlib.util import module_from_spec\n",
    "    except:\n",
    "        #python 3.4\n",
    "        from importlib.machinery import FileFinder\n",
    "        from importlib._bootstrap import _SpecMethods\n",
    "\n",
    "        def module_from_spec(spec): \n",
    "            return _SpecMethods(spec).create()\n",
    "        \n",
    "        def _init_module_attrs(spec, module):\n",
    "            return _SpecMethods(spec).init_module_attrs(module)\n",
    "    \n",
    "    from io import StringIO\n",
    "    from functools import partialmethod, partial, wraps, singledispatch\n",
    "    from importlib import reload\n",
    "    from traceback import print_exc, format_exc, format_tb\n",
    "    from contextlib import contextmanager, ExitStack\n",
    "    from pathlib import Path\n",
    "    try:\n",
    "        from importlib.resources import path\n",
    "    except:\n",
    "        from importlib_resources import path\n",
    "        \n",
    "    from ast import NodeTransformer, parse, Assign, literal_eval, dump, fix_missing_locations, Str, Tuple, Ellipsis, Interactive\n",
    "    from collections import ChainMap        \n",
    "    \n",
    "    __all__ = 'Notebook', 'Partial', 'reload', 'Lazy'"
   ]
  },
  {
   "cell_type": "code",
   "execution_count": 3,
   "metadata": {},
   "outputs": [],
   "source": [
    "    class ImportNbException(BaseException):\n",
    "        \"\"\"ImportNbException allows all exceptions to be raised, a null except statement always passes.\"\"\""
   ]
  },
  {
   "cell_type": "markdown",
   "metadata": {},
   "source": [
    "## Converting cells to code\n",
    "\n",
    "These functions are attached to the loaders.s"
   ]
  },
  {
   "cell_type": "markdown",
   "metadata": {},
   "source": [
    "### Markdown rules"
   ]
  },
  {
   "cell_type": "code",
   "execution_count": 4,
   "metadata": {},
   "outputs": [],
   "source": [
    "    def markdown_to_source(object):       \n",
    "        if object['cell_type'] == 'markdown':\n",
    "            object = copy(object)\n",
    "            object['source'] = codify_markdown(object['source'])\n",
    "            object['outputs'] = []\n",
    "            object['cell_type'] = 'code'\n",
    "            object['execution_count'] = None\n",
    "        return object"
   ]
  },
  {
   "cell_type": "code",
   "execution_count": 15,
   "metadata": {},
   "outputs": [],
   "source": [
    "    def cell_to_ast(loader, object):\n",
    "        if object['cell_type'] == 'markdown':\n",
    "            object = markdown_to_source(object)\n",
    "            \n",
    "        if object.get('cell_type', None) in ('code', 'markdown'):\n",
    "            \n",
    "            module = ast.increment_lineno(\n",
    "                ast.parse(\n",
    "                    loader.format(\"\".join(object[\"source\"]))\n",
    "                ), object[\"metadata\"].get(\"lineno\", 1))\n",
    "            return module\n",
    "        return ast.Module(body=[])"
   ]
  },
  {
   "cell_type": "code",
   "execution_count": 16,
   "metadata": {},
   "outputs": [],
   "source": [
    "    def nb_to_ast(loader, nb):\n",
    "        return ast.Module(body=sum(\n",
    "            (loader.cell_to_ast(object).body for object in nb['cells']), []))"
   ]
  },
  {
   "cell_type": "code",
   "execution_count": 17,
   "metadata": {},
   "outputs": [],
   "source": [
    "    @singledispatch\n",
    "    def codify_markdown(string_or_list): raise TypeError(\"Markdown must be a string or a list.\")\n",
    "\n",
    "    @codify_markdown.register(str)\n",
    "    def codify_markdown_string(str):\n",
    "        if '\"\"\"' in str: str = \"'''{}\\n'''\".format(str)\n",
    "        else: str = '\"\"\"{}\\n\"\"\"'.format(str)\n",
    "        return str\n",
    "\n",
    "    @codify_markdown.register(list)\n",
    "    def codify_markdown_list(str):\n",
    "        return list(\n",
    "            map(\"{}\\n\".format, codify_markdown_string(\n",
    "                ''.join(str)).splitlines()))"
   ]
  },
  {
   "cell_type": "markdown",
   "metadata": {},
   "source": [
    "## Compilation of code-ish objects"
   ]
  },
  {
   "cell_type": "code",
   "execution_count": 18,
   "metadata": {},
   "outputs": [],
   "source": [
    "    def source_to_code(loader, object, path=None):\n",
    "        cells = []\n",
    "        if isinstance(object, bytes):\n",
    "            object = loads(object.decode('utf-8'))\n",
    "            \n",
    "        if 'cells' in object:\n",
    "            cells.extend(object['cells'])\n",
    "        elif isinstance(object, dict):\n",
    "            cells.append(object)\n",
    "        else:\n",
    "            cells.append({'source': object, 'cell_type': 'code'})\n",
    "            \n",
    "        return compile(loader.visit(loader.nb_to_ast({'cells': cells})), path or \"<importnb>\", 'exec')"
   ]
  },
  {
   "cell_type": "markdown",
   "metadata": {},
   "source": [
    "## Loading from resources"
   ]
  },
  {
   "cell_type": "code",
   "execution_count": 19,
   "metadata": {},
   "outputs": [],
   "source": [
    "    def from_resource(loader, file=None, resource=None, exec=True, **globals):\n",
    "        \"\"\"Load a python module or notebook from a file location.\n",
    "\n",
    "        from_filename is not reloadable because it is not in the sys.modules.\n",
    "\n",
    "        This still needs some work for packages.\n",
    "        \n",
    "        >> assert from_resource(Notebook(), 'loader.ipynb', 'importnb.notebooks')\n",
    "        \"\"\"\n",
    "        with ExitStack() as stack:\n",
    "            if resource is not None:\n",
    "                file = Path(stack.enter_context(path(resource, file)))\n",
    "            else:\n",
    "                file = Path(file or loader.path)            \n",
    "            name = (getattr(loader, 'name', False) == '__main__' and '__main__') or file.stem\n",
    "            if file.suffixes[-1] == '.ipynb':  \n",
    "                loader = loader(name, file)\n",
    "            else:  \n",
    "                loader = SourceFileLoader(name, str(file))\n",
    "\n",
    "            lazy = getattr(loader, '_lazy', False)\n",
    "            if lazy: \n",
    "                try:\n",
    "                    from importlib.util import LazyLoader\n",
    "                    loader = LazyLoader(loader)\n",
    "                except:\n",
    "                    ImportWarning(\"\"\"LazyLoading is only available in > Python 3.5\"\"\")\n",
    "\n",
    "            module = module_from_spec(spec_from_loader(name, loader))\n",
    "            if exec:\n",
    "                stack.enter_context(modify_sys_path(file))\n",
    "                module.__loader__.exec_module(module, **globals)\n",
    "        return module"
   ]
  },
  {
   "cell_type": "markdown",
   "metadata": {},
   "source": [
    "# The Notebook Loader"
   ]
  },
  {
   "cell_type": "code",
   "execution_count": 20,
   "metadata": {},
   "outputs": [],
   "source": [
    "    class NotebookLoader(SourceFileLoader, PathHooksContext):\n",
    "        \"\"\"The simplest implementation of a Notebook Source File Loader.\n",
    "        >>> with NotebookLoader():\n",
    "        ...    from importnb.notebooks import decoder\n",
    "        >>> assert decoder.__file__.endswith('.ipynb')\n",
    "        \"\"\"\n",
    "        EXTENSION_SUFFIXES = '.ipynb',\n",
    "        \n",
    "        def __init__(\n",
    "            self, fullname=None, path=None\n",
    "        ): super().__init__(fullname, path)\n",
    "\n",
    "        \n",
    "        format = staticmethod(dedent)\n",
    "        __slots__ = 'name', 'path',\n",
    "        source_to_code = source_to_code\n",
    "        nb_to_ast = nb_to_ast\n",
    "        cell_to_ast = cell_to_ast\n",
    "        \n",
    "        from_filename = from_resource\n",
    "    \n",
    "        #loader_globals(loader_exceptions(loader_capture()))        \n",
    "\n",
    "        def __call__(self, fullname=None, path=None): \n",
    "            self= copy(self)\n",
    "            return SourceFileLoader.__init__(self, str(fullname), str(path)) or self\n"
   ]
  },
  {
   "cell_type": "markdown",
   "metadata": {},
   "source": [
    "## An advanced `exec_module` decorator."
   ]
  },
  {
   "cell_type": "code",
   "execution_count": 28,
   "metadata": {},
   "outputs": [],
   "source": [
    "    def advanced_exec_module(exec_module):\n",
    "        \"\"\"Decorate `SourceFileLoader.exec_module` objects with abilities to:\n",
    "        * Capture output in Python and IPython\n",
    "        * Prepopulate a model namespace.\n",
    "        * Allow exceptions while notebooks are loading.s\n",
    "        \n",
    "        >>> assert advanced_exec_module(SourceFileLoader.exec_module)\n",
    "        \"\"\"\n",
    "        def _exec_module(loader, module, **globals):\n",
    "            module._exception = None\n",
    "            module.__dict__.update(globals)       \n",
    "            with capture_output(stdout=loader.stdout, stderr=loader.stderr, display=loader.display) as out:\n",
    "                module._capture = out\n",
    "                try: exec_module(loader, module)\n",
    "                except loader.exceptions as Exception: \n",
    "                    module._exception = Exception\n",
    "        return _exec_module\n",
    "\n"
   ]
  },
  {
   "cell_type": "markdown",
   "metadata": {},
   "source": [
    "# The Advanced Notebook loader"
   ]
  },
  {
   "cell_type": "code",
   "execution_count": 22,
   "metadata": {},
   "outputs": [],
   "source": [
    "    class Notebook(NotebookLoader, ast.NodeTransformer, capture_output):\n",
    "        \"\"\"The Notebook loader is an advanced loader for IPython notebooks:\n",
    "        \n",
    "        * Capture stdout, stderr, and display objects.\n",
    "        * Partially evaluate notebook with known exceptions.\n",
    "        * Supply extra global values into notebooks.\n",
    "        \n",
    "        >>> assert Notebook().from_filename('loader.ipynb', 'importnb.notebooks')\n",
    "        \"\"\"\n",
    "        EXTENSION_SUFFIXES = '.ipynb',\n",
    "        \n",
    "        _compile = staticmethod(compile)\n",
    "        format = _transform = staticmethod(dedent)\n",
    "        \n",
    "        __slots__ = 'stdout', 'stderr', 'display', '_lazy', 'exceptions', 'globals'\n",
    "        \n",
    "        def __init__(\n",
    "            self, fullname=None, path=None, *, \n",
    "            stdout=False, stderr=False, display=False,\n",
    "            lazy=False, globals=None, exceptions=ImportNbException\n",
    "        ): \n",
    "            super().__init__(fullname, path)\n",
    "            capture_output.__init__(self, stdout=stdout, stderr=stderr, display=display)\n",
    "            self._lazy = lazy\n",
    "            self.globals = {} if globals is None else globals\n",
    "            self.exceptions = exceptions\n",
    "                \n",
    "        def create_module(self, spec):\n",
    "            module = _new_module(spec.name)\n",
    "            _init_module_attrs(spec, module)\n",
    "            module.__dict__.update(self.globals)\n",
    "            return module\n",
    "        \n",
    "        exec_module = advanced_exec_module(NotebookLoader.exec_module)\n",
    "        \n",
    "        def visit(self, node): \n",
    "            return ast.fix_missing_locations(super().visit(node))        \n",
    "\n"
   ]
  },
  {
   "cell_type": "code",
   "execution_count": 23,
   "metadata": {},
   "outputs": [],
   "source": [
    "    def load_ipython_extension(ip=None):\n",
    "        add_path_hooks(Notebook, Notebook.EXTENSION_SUFFIXES)\n",
    "\n",
    "    def unload_ipython_extension(ip=None):\n",
    "        remove_one_path_hook(Notebook)"
   ]
  },
  {
   "cell_type": "markdown",
   "metadata": {},
   "source": [
    "# Developer"
   ]
  },
  {
   "cell_type": "code",
   "execution_count": 24,
   "metadata": {},
   "outputs": [
    {
     "name": "stdout",
     "output_type": "stream",
     "text": [
      "TestResults(failed=0, attempted=15)\n"
     ]
    }
   ],
   "source": [
    "    if __name__ ==  '__main__':\n",
    "        try:  from utils.export import export\n",
    "        except: from .utils.export import export\n",
    "        export('loader.ipynb', '../loader.py')\n",
    "        m = Notebook().from_filename('loader.ipynb')\n",
    "        print(__import__('doctest').testmod(m))"
   ]
  },
  {
   "cell_type": "markdown",
   "metadata": {},
   "source": [
    "   !jupyter nbconvert --to python --stdout loader.ipynb > ../loader.py"
   ]
  },
  {
   "cell_type": "markdown",
   "metadata": {},
   "source": [
    "# More Information\n",
    "\n",
    "The `importnb.loader` module recreates basic Python importing abilities.  Have a look at [`execute.ipynb`](execute.ipynb) for more advanced usages."
   ]
  },
  {
   "cell_type": "code",
   "execution_count": null,
   "metadata": {},
   "outputs": [],
   "source": []
  }
 ],
 "metadata": {
  "kernelspec": {
   "display_name": "p6",
   "language": "python",
   "name": "other-env"
  },
  "language_info": {
   "codemirror_mode": {
    "name": "ipython",
    "version": 3
   },
   "file_extension": ".py",
   "mimetype": "text/x-python",
   "name": "python",
   "nbconvert_exporter": "python",
   "pygments_lexer": "ipython3",
   "version": "3.6.3"
  },
  "toc": {
   "colors": {
    "hover_highlight": "#DAA520",
    "running_highlight": "#FF0000",
    "selected_highlight": "#FFD700"
   },
   "moveMenuLeft": true,
   "nav_menu": {
    "height": "29px",
    "width": "252px"
   },
   "navigate_menu": true,
   "number_sections": true,
   "sideBar": true,
   "threshold": 4,
   "toc_cell": false,
   "toc_section_display": "block",
   "toc_window_display": false,
   "widenNotebook": false
  },
  "varInspector": {
   "cols": {
    "lenName": 16,
    "lenType": 16,
    "lenVar": 40
   },
   "kernels_config": {
    "python": {
     "delete_cmd_postfix": "",
     "delete_cmd_prefix": "del ",
     "library": "var_list.py",
     "varRefreshCmd": "print(var_dic_list())"
    },
    "r": {
     "delete_cmd_postfix": ") ",
     "delete_cmd_prefix": "rm(",
     "library": "var_list.r",
     "varRefreshCmd": "cat(var_dic_list()) "
    }
   },
   "types_to_exclude": [
    "module",
    "function",
    "builtin_function_or_method",
    "instance",
    "_Feature"
   ],
   "window_display": false
  }
 },
 "nbformat": 4,
 "nbformat_minor": 2
}
