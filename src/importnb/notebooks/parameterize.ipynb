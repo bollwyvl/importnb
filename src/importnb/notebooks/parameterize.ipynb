{
 "cells": [
  {
   "cell_type": "markdown",
   "metadata": {},
   "source": [
    "# `Parameterize` notebooks.\n",
    "\n",
    "The execute importer maintains an attribute that includes the notebooks inputs and outputs.\n",
    "\n",
    "    >>> f = Parameterize().from_filename('parameterize.ipynb', 'importnb.notebooks')\n",
    "    >>> assert 'a_variable_to_parameterize' in f.__signature__.parameters\n",
    "    >>> assert f(a_variable_to_parameterize=100)\n"
   ]
  },
  {
   "cell_type": "code",
   "execution_count": 1,
   "metadata": {},
   "outputs": [],
   "source": [
    "    a_variable_to_parameterize = 42"
   ]
  },
  {
   "cell_type": "code",
   "execution_count": 2,
   "metadata": {},
   "outputs": [],
   "source": [
    "    if globals().get('show', None):\n",
    "        print('I am tested.')"
   ]
  },
  {
   "cell_type": "code",
   "execution_count": 3,
   "metadata": {},
   "outputs": [],
   "source": [
    "    try:\n",
    "        from .capture import capture_output\n",
    "        from .execute import Execute, loader_include_notebook\n",
    "        from .decoder import identity, loads, dedent\n",
    "    except:\n",
    "        from capture import capture_output\n",
    "        from execute import Execute, loader_include_notebook\n",
    "        from decoder import identity, loads, dedent\n",
    "\n",
    "    import inspect, sys, ast\n",
    "    from functools import partialmethod, partial\n",
    "    from importlib import reload, _bootstrap\n",
    "    from importlib._bootstrap import _call_with_frames_removed, _new_module\n",
    "\n",
    "    import traceback    \n",
    "    from traceback import print_exc, format_exc, format_tb\n",
    "    from pathlib import Path\n",
    "        \n",
    "    from ast import NodeTransformer, parse, Assign, literal_eval, dump, fix_missing_locations, Str, Tuple, Ellipsis, Interactive\n",
    "    from collections import ChainMap        \n",
    "    \n",
    "    __all__ = 'Notebook', 'Partial', 'reload', 'Lazy'"
   ]
  },
  {
   "cell_type": "code",
   "execution_count": 4,
   "metadata": {},
   "outputs": [],
   "source": [
    "    class AssignmentFinder(NodeTransformer):\n",
    "        visit_Module = NodeTransformer.generic_visit\n",
    "        \n",
    "        def visit_Assign(self, node):\n",
    "            if len(node.targets):\n",
    "                try:\n",
    "                    if not getattr(node.targets[0], 'id', '_').startswith('_'):\n",
    "                        literal_eval(node.value)\n",
    "                        return node\n",
    "                except: ...\n",
    "            \n",
    "        def generic_visit(self, node): ..."
   ]
  },
  {
   "cell_type": "code",
   "execution_count": 5,
   "metadata": {},
   "outputs": [],
   "source": [
    "    class AssignmentIgnore(AssignmentFinder):\n",
    "        def visit_Assign(self, node):\n",
    "            if isinstance(super().visit_Assign(node), ast.Assign):\n",
    "                return \n",
    "            return node\n",
    "            \n",
    "        def generic_visit(self, node): return node"
   ]
  },
  {
   "cell_type": "code",
   "execution_count": 6,
   "metadata": {},
   "outputs": [],
   "source": [
    "    def copy_module(module):\n",
    "        new = type(module)(module.__name__)\n",
    "        new.__dict__.update(module.__dict__)\n",
    "        return new"
   ]
  },
  {
   "cell_type": "code",
   "execution_count": 7,
   "metadata": {},
   "outputs": [],
   "source": [
    "    class Parameterize(Execute):\n",
    "        \"\"\"Discover any literal ast expression and create parameters from them. \n",
    "                \n",
    "        Parametize is a NodeTransformer that import any nodes return by Parameterize Node.\n",
    "        \"\"\"      \n",
    "        def create_module(self, spec):\n",
    "            module = super().create_module(spec)\n",
    "            \n",
    "            # Import the notebook when parameterize is imported\n",
    "            loader_include_notebook(self, module)\n",
    "            \n",
    "            node = self.nb_to_ast(module._notebook)\n",
    "            \n",
    "            # Extra effort to supply a docstring\n",
    "            doc = None\n",
    "            if node.body: \n",
    "                _node = node.body[0]\n",
    "                if isinstance(_node, ast.Expr) and isinstance(_node.value, ast.Str):\n",
    "                    doc = _node\n",
    "                    \n",
    "            # Discover the parameterizable nodes\n",
    "            params = AssignmentFinder().visit(node)\n",
    "            \n",
    "            # Include the string in the compilation\n",
    "            doc and params.body.insert(0, doc)\n",
    "            \n",
    "            # Supply the literal parameter values as module globals.\n",
    "            exec(compile(params, '<parameterize>', 'exec'), module.__dict__, module.__dict__)\n",
    "            return module\n",
    "        \n",
    "        def from_filename(self, filename, path=None, **globals):\n",
    "            module = super().from_filename(filename, path, exec=False)            \n",
    "            \n",
    "            def recall(**kwargs):\n",
    "                nonlocal module, globals\n",
    "                module.__loader__.exec_module(module, **ChainMap(kwargs, globals))\n",
    "                return copy_module(module)\n",
    "            \n",
    "            recall.__signature__ = vars_to_sig(**{k: v for k, v in module.__dict__.items() if not k.startswith('_')})\n",
    "            recall.__doc__ = module.__doc__\n",
    "            return recall\n",
    "        \n",
    "        def _exec_cell(self, cell, node, module, index=0):\n",
    "            node = AssignmentIgnore().visit(node)\n",
    "\n",
    "            super()._exec_cell(cell, node, module, index)"
   ]
  },
  {
   "cell_type": "code",
   "execution_count": 8,
   "metadata": {},
   "outputs": [],
   "source": [
    "    def vars_to_sig(**vars):\n",
    "        \"\"\"Create a signature for a dictionary of names.\"\"\"\n",
    "        from inspect import Parameter, Signature\n",
    "        return Signature([Parameter(str, Parameter.KEYWORD_ONLY, default = vars[str]) for str in vars])"
   ]
  },
  {
   "cell_type": "code",
   "execution_count": 9,
   "metadata": {},
   "outputs": [],
   "source": [
    "    if __name__ == '__main__':\n",
    "        f = Parameterize(exceptions=BaseException).from_filename('execute.ipynb', 'importnb.notebooks')\n",
    "        m = f(a_variable_to_parameterize=10)"
   ]
  },
  {
   "cell_type": "markdown",
   "metadata": {},
   "source": [
    "# Developer"
   ]
  },
  {
   "cell_type": "code",
   "execution_count": 10,
   "metadata": {
    "scrolled": false
   },
   "outputs": [
    {
     "name": "stdout",
     "output_type": "stream",
     "text": [
      "Trying:\n",
      "    f = Parameterize().from_filename('parameterize.ipynb', 'importnb.notebooks')\n",
      "Expecting nothing\n",
      "ok\n",
      "Trying:\n",
      "    assert 'a_variable_to_parameterize' in f.__signature__.parameters\n",
      "Expecting nothing\n",
      "ok\n",
      "Trying:\n",
      "    assert f(a_variable_to_parameterize=100)\n",
      "Expecting nothing\n",
      "ok\n",
      "12 items had no tests:\n",
      "    parameterize.AssignmentFinder\n",
      "    parameterize.AssignmentFinder.generic_visit\n",
      "    parameterize.AssignmentFinder.visit_Assign\n",
      "    parameterize.AssignmentIgnore\n",
      "    parameterize.AssignmentIgnore.generic_visit\n",
      "    parameterize.AssignmentIgnore.visit_Assign\n",
      "    parameterize.Parameterize\n",
      "    parameterize.Parameterize._exec_cell\n",
      "    parameterize.Parameterize.create_module\n",
      "    parameterize.Parameterize.from_filename\n",
      "    parameterize.copy_module\n",
      "    parameterize.vars_to_sig\n",
      "1 items passed all tests:\n",
      "   3 tests in parameterize\n",
      "3 tests in 13 items.\n",
      "3 passed and 0 failed.\n",
      "Test passed.\n"
     ]
    }
   ],
   "source": [
    "    if __name__ == '__main__':\n",
    "        try:  from utils.export import export\n",
    "        except: from .utils.export import export\n",
    "        export('parameterize.ipynb', '../parameterize.py')\n",
    "        module = Execute().from_filename('parameterize.ipynb')\n",
    "        __import__('doctest').testmod(module, verbose=2)"
   ]
  },
  {
   "cell_type": "code",
   "execution_count": null,
   "metadata": {},
   "outputs": [],
   "source": []
  }
 ],
 "metadata": {
  "kernelspec": {
   "display_name": "p6",
   "language": "python",
   "name": "other-env"
  },
  "language_info": {
   "codemirror_mode": {
    "name": "ipython",
    "version": 3
   },
   "file_extension": ".py",
   "mimetype": "text/x-python",
   "name": "python",
   "nbconvert_exporter": "python",
   "pygments_lexer": "ipython3",
   "version": "3.6.3"
  },
  "toc": {
   "colors": {
    "hover_highlight": "#DAA520",
    "running_highlight": "#FF0000",
    "selected_highlight": "#FFD700"
   },
   "moveMenuLeft": true,
   "nav_menu": {
    "height": "29px",
    "width": "252px"
   },
   "navigate_menu": true,
   "number_sections": true,
   "sideBar": true,
   "threshold": 4,
   "toc_cell": false,
   "toc_section_display": "block",
   "toc_window_display": false,
   "widenNotebook": false
  },
  "varInspector": {
   "cols": {
    "lenName": 16,
    "lenType": 16,
    "lenVar": 40
   },
   "kernels_config": {
    "python": {
     "delete_cmd_postfix": "",
     "delete_cmd_prefix": "del ",
     "library": "var_list.py",
     "varRefreshCmd": "print(var_dic_list())"
    },
    "r": {
     "delete_cmd_postfix": ") ",
     "delete_cmd_prefix": "rm(",
     "library": "var_list.r",
     "varRefreshCmd": "cat(var_dic_list()) "
    }
   },
   "types_to_exclude": [
    "module",
    "function",
    "builtin_function_or_method",
    "instance",
    "_Feature"
   ],
   "window_display": false
  }
 },
 "nbformat": 4,
 "nbformat_minor": 2
}
