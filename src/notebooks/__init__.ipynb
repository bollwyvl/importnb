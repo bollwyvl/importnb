{
 "cells": [
  {
   "cell_type": "code",
   "execution_count": 1,
   "metadata": {},
   "outputs": [],
   "source": [
    "    __all__ = 'Notebook', 'Partial', 'reload', 'Parameterize', 'Lazy'\n",
    "\n",
    "    try:\n",
    "        from .loader import Notebook, Partial, load_ipython_extension, unload_ipython_extension, reload, Lazy, export\n",
    "        from .parameterize import Parameterize\n",
    "        from . import utils\n",
    "    except:\n",
    "        from loader import Notebook, Partial, load_ipython_extension, unload_ipython_extension, reload, Lazy, export\n",
    "        from parameterize import Parameterize\n",
    "        import utils        \n"
   ]
  },
  {
   "cell_type": "code",
   "execution_count": 2,
   "metadata": {},
   "outputs": [],
   "source": [
    "    if __name__ ==  '__main__':   \n",
    "        export('__init__.ipynb', '../importnb/__init__.py')\n",
    "        export('__init__.ipynb', '__init__.py')"
   ]
  }
 ],
 "metadata": {
  "kernelspec": {
   "display_name": "p6",
   "language": "python",
   "name": "other-env"
  },
  "language_info": {
   "codemirror_mode": {
    "name": "ipython",
    "version": 3
   },
   "file_extension": ".py",
   "mimetype": "text/x-python",
   "name": "python",
   "nbconvert_exporter": "python",
   "pygments_lexer": "ipython3",
   "version": "3.6.3"
  }
 },
 "nbformat": 4,
 "nbformat_minor": 2
}
