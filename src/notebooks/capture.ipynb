{
 "cells": [
  {
   "cell_type": "code",
   "execution_count": 1,
   "metadata": {},
   "outputs": [],
   "source": [
    "try:\n",
    "    from .utils import __IPYTHON__, export\n",
    "except:\n",
    "    from utils import __IPYTHON__, export"
   ]
  },
  {
   "cell_type": "code",
   "execution_count": 2,
   "metadata": {},
   "outputs": [],
   "source": [
    "if False and __IPYTHON__:\n",
    "    from IPython.utils.capture import capture_output\n",
    "else:\n",
    "    from contextlib import redirect_stdout, ExitStack\n",
    "    from io import StringIO\n",
    "    try:\n",
    "        from contextlib import redirect_stderr\n",
    "    except:\n",
    "        import sys\n",
    "        class redirect_stderr:\n",
    "            def __init__(self, new_target):\n",
    "                self._new_target = new_target\n",
    "                self._old_targets = []\n",
    "\n",
    "            def __enter__(self):\n",
    "                self._old_targets.append(sys.stderr)\n",
    "                sys.stderr = self._new_target\n",
    "                return self._new_target\n",
    "\n",
    "            def __exit__(self, exctype, excinst, exctb):\n",
    "                sys.stderr = self._old_targets.pop()\n",
    "                \n",
    "    \n",
    "    class capture_output(ExitStack):\n",
    "        def __init__(self, stdout=True, stderr=True, display=True):\n",
    "            self.stdout = stdout\n",
    "            self.stderr = stderr\n",
    "            self.display = display\n",
    "            super().__init__()\n",
    "            \n",
    "        def __enter__(self):\n",
    "            super().__enter__()\n",
    "            stdout = stderr = outputs = None                \n",
    "            if self.stdout: \n",
    "                stdout = StringIO()\n",
    "                self.enter_context(redirect_stdout(stdout))\n",
    "            if self.stderr: \n",
    "                stderr = StringIO()\n",
    "                self.enter_context(redirect_stderr(stderr))\n",
    "            return CapturedIO(stdout, stderr, outputs)\n",
    "            \n",
    "    class CapturedIO:\n",
    "        def __init__(self, stdout=None, stderr=None, outputs=None):\n",
    "            self._stdout = stdout\n",
    "            self._stderr = stderr\n",
    "            self.outputs = outputs\n",
    "\n",
    "        @property\n",
    "        def stdout(self): return self._stdout and self._stdout.getvalue() or ''\n",
    "\n",
    "        @property\n",
    "        def stderr(self): return self._stderr and self._stderr.getvalue() or ''\n",
    "\n"
   ]
  },
  {
   "cell_type": "code",
   "execution_count": 3,
   "metadata": {
    "scrolled": false
   },
   "outputs": [],
   "source": [
    "    if __name__ ==  '__main__':\n",
    "        export('capture.ipynb', '../importnb/capture.py')\n",
    "        __import__('doctest').testmod()"
   ]
  }
 ],
 "metadata": {
  "kernelspec": {
   "display_name": "p6",
   "language": "python",
   "name": "other-env"
  },
  "language_info": {
   "codemirror_mode": {
    "name": "ipython",
    "version": 3
   },
   "file_extension": ".py",
   "mimetype": "text/x-python",
   "name": "python",
   "nbconvert_exporter": "python",
   "pygments_lexer": "ipython3",
   "version": "3.6.3"
  }
 },
 "nbformat": 4,
 "nbformat_minor": 2
}
