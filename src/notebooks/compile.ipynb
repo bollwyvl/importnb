{
 "cells": [
  {
   "cell_type": "markdown",
   "metadata": {},
   "source": [
    "# The `compile` module\n",
    "\n",
    "...provides compatibility for Python and IPython through [`compile_python`](compile_python.ipynb) and [`compile_ipython`](compile_ipython.ipynb), respectively.  \n",
    "\n",
    "    >>> from importnb.compile import __IPYTHON__, Compiler, PythonExporter"
   ]
  },
  {
   "cell_type": "code",
   "execution_count": 1,
   "metadata": {},
   "outputs": [],
   "source": [
    "    import ast, sys\n",
    "    from pathlib import Path\n",
    "    \n",
    "    __file__ = globals().get('__file__', 'compile.ipynb')\n",
    "    __nb__ = __file__.replace('src/importnb', 'src/notebooks')\n",
    "\n",
    "    __IPYTHON__ = False\n",
    "\n",
    "    try:\n",
    "        from IPython import get_ipython\n",
    "        if not get_ipython(): ...\n",
    "        else: __IPYTHON__ = True\n",
    "    except: ...\n",
    "\n",
    "    if __IPYTHON__:\n",
    "        try:\n",
    "            from .compile_ipython import Compiler, PythonExporter\n",
    "        except:\n",
    "            from compile_ipython import Compiler, PythonExporter\n",
    "    else:\n",
    "        try:\n",
    "            from .compile_python import Compiler, PythonExporter\n",
    "        except:\n",
    "            from compile_python import Compiler, PythonExporter"
   ]
  },
  {
   "cell_type": "code",
   "execution_count": 2,
   "metadata": {},
   "outputs": [],
   "source": [
    "    class ImportNbStyleExporter(PythonExporter):\n",
    "        PythonExporter.exclude_input_prompt = True\n",
    "        def from_notebook_node(self, nb, resources=None, **kw):\n",
    "            code, resources = super().from_notebook_node(nb, resources=resources, **kw)\n",
    "            try:\n",
    "                from black import format_str\n",
    "            except:\n",
    "                format_str = lambda x, i: x\n",
    "            return format_str(code, 100), resources"
   ]
  },
  {
   "cell_type": "code",
   "execution_count": 3,
   "metadata": {},
   "outputs": [],
   "source": [
    "    def export(file, to=None): \n",
    "        from pathlib import Path\n",
    "        exporter = ImportNbStyleExporter()\n",
    "        code = exporter.from_filename(file)[0]\n",
    "        if to: Path(to).with_suffix(exporter.file_extension).write_text(code)\n",
    "        return code    "
   ]
  },
  {
   "cell_type": "code",
   "execution_count": 4,
   "metadata": {},
   "outputs": [],
   "source": [
    "    class Code(PythonExporter, Compiler):\n",
    "        \"\"\"An exporter than returns transforms a NotebookNode through the InputSplitter.\n",
    "        \n",
    "        >>> assert type(Code().from_filename(Path(__nb__).with_suffix('.ipynb'))) is __import__('nbformat').NotebookNode\"\"\"\n",
    "        def __init__(\n",
    "            self, \n",
    "            filename='<module exporter>', name='__main__'\n",
    "        ): \n",
    "            PythonExporter.__init__(self) \n",
    "            Compiler.__init__(self)\n",
    "            self.filename = filename\n",
    "            self.name = name\n",
    "                \n",
    "        def from_file(Code, file_stream, resources=None, **dict): \n",
    "            for str in ('name', 'filename'): setattr(Code, str, dict.pop(str, getattr(Code, str)))\n",
    "            return super().from_file(file_stream, resources, **dict)\n",
    "        \n",
    "        def from_filename(Code,  filename, resources=None, **dict):\n",
    "            Code.filename, Code.name = filename, Path(filename).stem\n",
    "            return super().from_filename(filename, resources, **dict)\n",
    "\n",
    "        def from_notebook_node(Code, nb, resources=None, **dict): \n",
    "            for index, cell in enumerate(nb['cells']):\n",
    "                if cell['cell_type'] == 'code':\n",
    "                    if isinstance(cell['source'], list):\n",
    "                        cell['source'] = ''.join(cell['source'])\n",
    "                    cell['source'] = Code.from_code_cell(cell, **dict)\n",
    "            return nb\n",
    "        \n",
    "        def from_code_cell(Code, cell, **dict):  \n",
    "            return Code.transform(cell['source'])"
   ]
  },
  {
   "cell_type": "code",
   "execution_count": 5,
   "metadata": {},
   "outputs": [],
   "source": [
    "    class AST(Code):\n",
    "        \"\"\"An exporter than returns parsed ast.\n",
    "        \n",
    "        >>> assert type(AST().from_filename(Path(__nb__).with_suffix('.ipynb'))) is ast.Module\"\"\"\n",
    "        def from_notebook_node(AST, nb, resource=None, **dict):                \n",
    "            module = AST.ast_transform(ast.fix_missing_locations(ast.Module(body=sum((\n",
    "                AST.ast_parse(\n",
    "                    AST.from_code_cell(cell, **dict), \n",
    "                    lineno=cell['metadata'].get('lineno', 1)\n",
    "                ).body \n",
    "                for cell in super().from_notebook_node(nb, resource, **dict)['cells'] \n",
    "                if cell['cell_type']=='code'\n",
    "            ), []))))\n",
    "\n",
    "            # The module ast node has a docstring parameter.\n",
    "            # https://docs.python.org/3.7/whatsnew/3.7.html#changes-in-the-python-api\n",
    "            \n",
    "            return module"
   ]
  },
  {
   "cell_type": "code",
   "execution_count": 6,
   "metadata": {},
   "outputs": [],
   "source": [
    "    class Compile(AST):\n",
    "        \"\"\"An exporter that returns compiled and cached bytecode.\n",
    "        \n",
    "        >>> assert Compile().from_filename(Path(__nb__).with_suffix('.ipynb'))\"\"\"        \n",
    "        def from_notebook_node(Compile, nb, resources: dict=None, **dict):\n",
    "            return Compile.compile(super().from_notebook_node(nb, resources, **dict))"
   ]
  },
  {
   "cell_type": "code",
   "execution_count": 7,
   "metadata": {
    "scrolled": false
   },
   "outputs": [
    {
     "name": "stdout",
     "output_type": "stream",
     "text": [
      "Trying:\n",
      "    from importnb.compile import __IPYTHON__, Compiler, PythonExporter\n",
      "Expecting nothing\n",
      "ok\n",
      "Trying:\n",
      "    assert type(AST().from_filename(Path(__nb__).with_suffix('.ipynb'))) is ast.Module\n",
      "Expecting nothing\n",
      "ok\n",
      "Trying:\n",
      "    assert type(Code().from_filename(Path(__nb__).with_suffix('.ipynb'))) is __import__('nbformat').NotebookNode\n",
      "Expecting nothing\n",
      "ok\n",
      "Trying:\n",
      "    assert Compile().from_filename(Path(__nb__).with_suffix('.ipynb'))\n",
      "Expecting nothing\n",
      "ok\n",
      "10 items had no tests:\n",
      "    compile.AST.from_notebook_node\n",
      "    compile.Code.__init__\n",
      "    compile.Code.from_code_cell\n",
      "    compile.Code.from_file\n",
      "    compile.Code.from_filename\n",
      "    compile.Code.from_notebook_node\n",
      "    compile.Compile.from_notebook_node\n",
      "    compile.ImportNbStyleExporter\n",
      "    compile.ImportNbStyleExporter.from_notebook_node\n",
      "    compile.export\n",
      "4 items passed all tests:\n",
      "   1 tests in compile\n",
      "   1 tests in compile.AST\n",
      "   1 tests in compile.Code\n",
      "   1 tests in compile.Compile\n",
      "4 tests in 14 items.\n",
      "4 passed and 0 failed.\n",
      "Test passed.\n"
     ]
    }
   ],
   "source": [
    "    if __name__ ==  '__main__':\n",
    "        export('compile.ipynb', '../importnb/compile.py')\n",
    "        try:\n",
    "            from . import compile\n",
    "        except:\n",
    "            import compile\n",
    "        __import__('doctest').testmod(compile, verbose=2)"
   ]
  },
  {
   "cell_type": "code",
   "execution_count": null,
   "metadata": {},
   "outputs": [],
   "source": []
  }
 ],
 "metadata": {
  "kernelspec": {
   "display_name": "p6",
   "language": "python",
   "name": "other-env"
  },
  "language_info": {
   "codemirror_mode": {
    "name": "ipython",
    "version": 3
   },
   "file_extension": ".py",
   "mimetype": "text/x-python",
   "name": "python",
   "nbconvert_exporter": "python",
   "pygments_lexer": "ipython3",
   "version": "3.6.3"
  }
 },
 "nbformat": 4,
 "nbformat_minor": 2
}
