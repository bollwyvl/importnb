{
 "cells": [
  {
   "cell_type": "markdown",
   "metadata": {},
   "source": [
    "# Load and test notebooks\n",
    "\n",
    "New ideas may include tests in a notebook.  The `importnb.test.Test` context will `doctest` and `unittest` a notebook."
   ]
  },
  {
   "cell_type": "code",
   "execution_count": 1,
   "metadata": {},
   "outputs": [],
   "source": [
    "    try:\n",
    "        from .loader import Notebook, export\n",
    "    except:\n",
    "        from loader import Notebook, export\n",
    "\n",
    "    from unittest import TestProgram, TestCase\n",
    "    from doctest import DocTestSuite\n",
    "    \n",
    "    __file__ = globals().get('__file__', 'test.ipynb')"
   ]
  },
  {
   "cell_type": "code",
   "execution_count": 2,
   "metadata": {},
   "outputs": [],
   "source": [
    "    def attach_doctest(module):\n",
    "        def load_tests(loader, tests, ignore):\n",
    "            tests.addTests(DocTestSuite(module))\n",
    "            return tests\n",
    "        module.load_tests = load_tests\n",
    "        return module"
   ]
  },
  {
   "cell_type": "code",
   "execution_count": 3,
   "metadata": {},
   "outputs": [],
   "source": [
    "    class Test(Notebook):\n",
    "        def exec_module(self, module):\n",
    "            super().exec_module(module)\n",
    "            attach_doctest(module)\n",
    "            try:\n",
    "                TestProgram(module, argv='discover'.split())\n",
    "            except SystemExit: ...\n",
    "            return module"
   ]
  },
  {
   "cell_type": "code",
   "execution_count": 4,
   "metadata": {},
   "outputs": [],
   "source": [
    "    class _test(TestCase):\n",
    "        def test_importnb_test(self):\n",
    "            assert False"
   ]
  },
  {
   "cell_type": "code",
   "execution_count": 5,
   "metadata": {
    "scrolled": false
   },
   "outputs": [
    {
     "name": "stderr",
     "output_type": "stream",
     "text": [
      "F\n",
      "======================================================================\n",
      "FAIL: test_importnb_test (test._test)\n",
      "----------------------------------------------------------------------\n",
      "Traceback (most recent call last):\n",
      "  File \"test.ipynb\", line 67, in test_importnb_test\n",
      "    \"            assert False\"\n",
      "AssertionError\n",
      "\n",
      "----------------------------------------------------------------------\n",
      "Ran 1 test in 0.001s\n",
      "\n",
      "FAILED (failures=1)\n"
     ]
    }
   ],
   "source": [
    "    if __name__ ==  '__main__':\n",
    "        export('test.ipynb', '../importnb/test.py')\n",
    "        __import__('doctest').testmod(Notebook.from_filename('loader.ipynb'))\n",
    "        m = Test.from_filename(__file__)"
   ]
  }
 ],
 "metadata": {
  "kernelspec": {
   "display_name": "p6",
   "language": "python",
   "name": "other-env"
  },
  "language_info": {
   "codemirror_mode": {
    "name": "ipython",
    "version": 3
   },
   "file_extension": ".py",
   "mimetype": "text/x-python",
   "name": "python",
   "nbconvert_exporter": "python",
   "pygments_lexer": "ipython3",
   "version": "3.6.3"
  }
 },
 "nbformat": 4,
 "nbformat_minor": 2
}
